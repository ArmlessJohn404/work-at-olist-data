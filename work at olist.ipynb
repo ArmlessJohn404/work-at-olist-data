{
 "cells": [
  {
   "cell_type": "markdown",
   "metadata": {},
   "source": [
    "# Work at Olist\n",
    "\n",
    "In this notebook we are going to study the [Brazilian E-Commerce Public Dataset by Olist](https://www.kaggle.com/olistbr/brazilian-ecommerce#olist_public_dataset_v2_payments.csv) and make a sentiment analysis of the reviews of several purchases at **Olist**.\n",
    "\n",
    "**First** we need to import the libraries and setup our environment."
   ]
  },
  {
   "cell_type": "code",
   "execution_count": 1,
   "metadata": {},
   "outputs": [
    {
     "name": "stdout",
     "output_type": "stream",
     "text": [
      "[nltk_data] Downloading package stopwords to /home/john/nltk_data...\n",
      "[nltk_data]   Package stopwords is already up-to-date!\n",
      "[nltk_data] Downloading package punkt to /home/john/nltk_data...\n",
      "[nltk_data]   Package punkt is already up-to-date!\n"
     ]
    }
   ],
   "source": [
    "import io\n",
    "\n",
    "from bs4 import BeautifulSoup\n",
    "import matplotlib.pyplot as plt\n",
    "import nltk\n",
    "import pandas as pd\n",
    "import requests\n",
    "import rows\n",
    "from sklearn import feature_extraction, preprocessing, model_selection, linear_model, metrics\n",
    "import unidecode\n",
    "\n",
    "nltk.download(['stopwords', 'punkt'])\n",
    "%matplotlib inline"
   ]
  },
  {
   "cell_type": "markdown",
   "metadata": {},
   "source": [
    "Then we're going to load the datasets. We will be using the classified dataset and try to enrchich the data prior to modeling."
   ]
  },
  {
   "cell_type": "code",
   "execution_count": 2,
   "metadata": {},
   "outputs": [
    {
     "name": "stdout",
     "output_type": "stream",
     "text": [
      "<class 'pandas.core.frame.DataFrame'>\n",
      "Int64Index: 3584 entries, 0 to 3583\n",
      "Data columns (total 33 columns):\n",
      "id                               3584 non-null int64\n",
      "order_status                     3584 non-null object\n",
      "order_products_value             3584 non-null float64\n",
      "order_freight_value              3584 non-null float64\n",
      "order_items_qty                  3584 non-null int64\n",
      "order_sellers_qty                3584 non-null int64\n",
      "order_purchase_timestamp         3584 non-null object\n",
      "order_aproved_at                 3584 non-null object\n",
      "order_estimated_delivery_date    3584 non-null object\n",
      "order_delivered_customer_date    3467 non-null object\n",
      "customer_city                    3584 non-null object\n",
      "customer_state                   3584 non-null object\n",
      "customer_zip_code_prefix         3584 non-null int64\n",
      "product_category_name            3584 non-null object\n",
      "product_name_lenght              3584 non-null int64\n",
      "product_description_lenght       3584 non-null int64\n",
      "product_photos_qty               3584 non-null int64\n",
      "review_score                     3584 non-null int64\n",
      "review_comment_title             0 non-null float64\n",
      "review_comment_message           3584 non-null object\n",
      "review_creation_date             3584 non-null object\n",
      "review_answer_timestamp          3584 non-null object\n",
      "votes_before_estimate            3584 non-null int64\n",
      "votes_delayed                    3584 non-null int64\n",
      "votes_low_quality                3584 non-null int64\n",
      "votes_return                     3584 non-null int64\n",
      "votes_not_as_anounced            3584 non-null int64\n",
      "votes_partial_delivery           3584 non-null int64\n",
      "votes_other_delivery             3584 non-null int64\n",
      "votes_other_order                3584 non-null int64\n",
      "votes_satisfied                  3584 non-null int64\n",
      "most_voted_subclass              3413 non-null object\n",
      "most_voted_class                 3413 non-null object\n",
      "dtypes: float64(3), int64(17), object(13)\n",
      "memory usage: 952.0+ KB\n"
     ]
    }
   ],
   "source": [
    "df_pub = pd.read_csv(\"olist_public_dataset_v2.csv\")\n",
    "df_clas = pd.read_csv(\"olist_classified_public_dataset.csv\", index_col=0)\n",
    "df_cus = pd.read_csv(\"olist_public_dataset_v2_customers.csv\")\n",
    "df_pay = pd.read_csv(\"olist_public_dataset_v2_payments.csv\")\n",
    "df_clas.info()"
   ]
  },
  {
   "cell_type": "markdown",
   "metadata": {},
   "source": [
    "### 1. JOIN TABLES\n",
    "\n",
    "We're starting by merging data from the avaliable tables. We want more information about the customer and the payment method.\n",
    "The **common** columns for both dataframes are:"
   ]
  },
  {
   "cell_type": "code",
   "execution_count": 3,
   "metadata": {},
   "outputs": [
    {
     "data": {
      "text/plain": [
       "['order_status',\n",
       " 'order_products_value',\n",
       " 'order_freight_value',\n",
       " 'order_items_qty',\n",
       " 'order_sellers_qty',\n",
       " 'order_purchase_timestamp',\n",
       " 'order_aproved_at',\n",
       " 'order_estimated_delivery_date',\n",
       " 'order_delivered_customer_date',\n",
       " 'customer_city',\n",
       " 'customer_state',\n",
       " 'customer_zip_code_prefix',\n",
       " 'product_category_name',\n",
       " 'product_name_lenght',\n",
       " 'product_description_lenght',\n",
       " 'product_photos_qty',\n",
       " 'review_score',\n",
       " 'review_comment_message',\n",
       " 'review_creation_date',\n",
       " 'review_answer_timestamp']"
      ]
     },
     "execution_count": 3,
     "metadata": {},
     "output_type": "execute_result"
    }
   ],
   "source": [
    "common_columns = [column for column in df_clas.columns if column in df_pub.columns and df_clas[column].dtype == df_pub[column].dtype]\n",
    "common_columns"
   ]
  },
  {
   "cell_type": "code",
   "execution_count": 4,
   "metadata": {},
   "outputs": [
    {
     "data": {
      "text/plain": [
       "['review_comment_title']"
      ]
     },
     "execution_count": 4,
     "metadata": {},
     "output_type": "execute_result"
    }
   ],
   "source": [
    "[column for column in df_clas.columns if column in df_pub.columns and df_clas[column].dtype != df_pub[column].dtype]"
   ]
  },
  {
   "cell_type": "markdown",
   "metadata": {},
   "source": [
    "It's interesting to see that `review_comment_title` has a different data type in each table. By looking at the information on the columns we see that all values are `null`, so we're dropping this column."
   ]
  },
  {
   "cell_type": "code",
   "execution_count": 5,
   "metadata": {},
   "outputs": [],
   "source": [
    "df_clas = df_clas.drop(columns=\"review_comment_title\")\n",
    "df_pub = df_pub.drop(columns=\"review_comment_title\")"
   ]
  },
  {
   "cell_type": "markdown",
   "metadata": {},
   "source": [
    "The columns that are present **only** in `olist_public_dataset_v2` are:"
   ]
  },
  {
   "cell_type": "code",
   "execution_count": 6,
   "metadata": {},
   "outputs": [
    {
     "data": {
      "text/plain": [
       "['id',\n",
       " 'votes_before_estimate',\n",
       " 'votes_delayed',\n",
       " 'votes_low_quality',\n",
       " 'votes_return',\n",
       " 'votes_not_as_anounced',\n",
       " 'votes_partial_delivery',\n",
       " 'votes_other_delivery',\n",
       " 'votes_other_order',\n",
       " 'votes_satisfied',\n",
       " 'most_voted_subclass',\n",
       " 'most_voted_class']"
      ]
     },
     "execution_count": 6,
     "metadata": {},
     "output_type": "execute_result"
    }
   ],
   "source": [
    "[column for column in df_clas.columns if column not in df_pub.columns]"
   ]
  },
  {
   "cell_type": "markdown",
   "metadata": {},
   "source": [
    "And the columns that are present **only** in `olist_classified_public_dataset` are:"
   ]
  },
  {
   "cell_type": "code",
   "execution_count": 7,
   "metadata": {},
   "outputs": [
    {
     "data": {
      "text/plain": [
       "['order_id', 'customer_id', 'product_id', 'review_id']"
      ]
     },
     "execution_count": 7,
     "metadata": {},
     "output_type": "execute_result"
    }
   ],
   "source": [
    "new_columns = [column for column in df_pub.columns if column not in df_clas.columns]\n",
    "new_columns"
   ]
  },
  {
   "cell_type": "markdown",
   "metadata": {},
   "source": [
    "This means that with some luck we can gather customer and product data from the other tables. We've found **22** duplicated rows in the `olist_classified_public_dataset` according to the common columns. We're going to discard this data since we don't know why these lines are repeated."
   ]
  },
  {
   "cell_type": "code",
   "execution_count": 8,
   "metadata": {},
   "outputs": [
    {
     "data": {
      "text/plain": [
       "(2812, 36)"
      ]
     },
     "execution_count": 8,
     "metadata": {},
     "output_type": "execute_result"
    }
   ],
   "source": [
    "df = df_clas[~df_clas[common_columns].duplicated(keep=False)]\n",
    "df = df.merge(df_pub, on=common_columns, how=\"inner\", validate=\"1:m\")\n",
    "df_pub = df_pub.merge(df_cus, on='customer_id')\n",
    "df.shape"
   ]
  },
  {
   "cell_type": "markdown",
   "metadata": {},
   "source": [
    "As we can see we managed to join **2812** data points, around 80%. We'll work with this data from now on."
   ]
  },
  {
   "cell_type": "code",
   "execution_count": 9,
   "metadata": {},
   "outputs": [
    {
     "data": {
      "text/plain": [
       "(2812, 37)"
      ]
     },
     "execution_count": 9,
     "metadata": {},
     "output_type": "execute_result"
    }
   ],
   "source": [
    "df = df.merge(df_cus, how=\"inner\", on=\"customer_id\", validate=\"m:m\")\n",
    "df.shape"
   ]
  },
  {
   "cell_type": "markdown",
   "metadata": {},
   "source": [
    "We successfully joined both tables and now it's possible to characterize each user in the dataset. Next we will join the payments table. \n",
    "\n",
    "We have found some duplicated data in the `olist_public_dataset_v2_payments` table, so we will discard them. Then, since each order might have several payments, first we need to group this data."
   ]
  },
  {
   "cell_type": "code",
   "execution_count": 10,
   "metadata": {},
   "outputs": [],
   "source": [
    "df_pay = df_pay.drop_duplicates()"
   ]
  },
  {
   "cell_type": "markdown",
   "metadata": {},
   "source": [
    "Although we dropped the duplicated values, there's also some rows in which the sequential is not correct, as shown in the table below:"
   ]
  },
  {
   "cell_type": "code",
   "execution_count": 11,
   "metadata": {},
   "outputs": [
    {
     "name": "stdout",
     "output_type": "stream",
     "text": [
      "# Orders with wrong sequential: 75\n"
     ]
    },
    {
     "data": {
      "text/html": [
       "<div>\n",
       "<style scoped>\n",
       "    .dataframe tbody tr th:only-of-type {\n",
       "        vertical-align: middle;\n",
       "    }\n",
       "\n",
       "    .dataframe tbody tr th {\n",
       "        vertical-align: top;\n",
       "    }\n",
       "\n",
       "    .dataframe thead th {\n",
       "        text-align: right;\n",
       "    }\n",
       "</style>\n",
       "<table border=\"1\" class=\"dataframe\">\n",
       "  <thead>\n",
       "    <tr style=\"text-align: right;\">\n",
       "      <th></th>\n",
       "      <th>order_id</th>\n",
       "      <th>installments</th>\n",
       "      <th>sequential</th>\n",
       "      <th>payment_type</th>\n",
       "      <th>value</th>\n",
       "    </tr>\n",
       "  </thead>\n",
       "  <tbody>\n",
       "    <tr>\n",
       "      <th>103503</th>\n",
       "      <td>0a7d898c6305101e69e9f5a05cd0130d</td>\n",
       "      <td>5</td>\n",
       "      <td>2</td>\n",
       "      <td>credit_card</td>\n",
       "      <td>215.47</td>\n",
       "    </tr>\n",
       "    <tr>\n",
       "      <th>79097</th>\n",
       "      <td>0d0e88a418636d40ea780339701db49c</td>\n",
       "      <td>1</td>\n",
       "      <td>2</td>\n",
       "      <td>debit_card</td>\n",
       "      <td>121.09</td>\n",
       "    </tr>\n",
       "    <tr>\n",
       "      <th>87767</th>\n",
       "      <td>1896e8b8fd196151559b02e31e98ce89</td>\n",
       "      <td>1</td>\n",
       "      <td>2</td>\n",
       "      <td>debit_card</td>\n",
       "      <td>108.95</td>\n",
       "    </tr>\n",
       "    <tr>\n",
       "      <th>17017</th>\n",
       "      <td>19404a71ed27e962d66a7f6cf9022722</td>\n",
       "      <td>1</td>\n",
       "      <td>2</td>\n",
       "      <td>debit_card</td>\n",
       "      <td>44.30</td>\n",
       "    </tr>\n",
       "    <tr>\n",
       "      <th>100149</th>\n",
       "      <td>1a57108394169c0b47d8f876acc9ba2d</td>\n",
       "      <td>0</td>\n",
       "      <td>2</td>\n",
       "      <td>credit_card</td>\n",
       "      <td>129.94</td>\n",
       "    </tr>\n",
       "  </tbody>\n",
       "</table>\n",
       "</div>"
      ],
      "text/plain": [
       "                                order_id  installments  sequential  \\\n",
       "103503  0a7d898c6305101e69e9f5a05cd0130d             5           2   \n",
       "79097   0d0e88a418636d40ea780339701db49c             1           2   \n",
       "87767   1896e8b8fd196151559b02e31e98ce89             1           2   \n",
       "17017   19404a71ed27e962d66a7f6cf9022722             1           2   \n",
       "100149  1a57108394169c0b47d8f876acc9ba2d             0           2   \n",
       "\n",
       "       payment_type   value  \n",
       "103503  credit_card  215.47  \n",
       "79097    debit_card  121.09  \n",
       "87767    debit_card  108.95  \n",
       "17017    debit_card   44.30  \n",
       "100149  credit_card  129.94  "
      ]
     },
     "execution_count": 11,
     "metadata": {},
     "output_type": "execute_result"
    }
   ],
   "source": [
    "df_ord = df_pay.groupby('order_id').size() != df_pay.groupby('order_id')['sequential'].max()\n",
    "df_pay_seq = df_pay[df_pay['order_id'].isin(df_ord[df_ord].index)].sort_values('order_id')\n",
    "print(\"# Orders with wrong sequential: {0}\".format(len(df_pay_seq)))\n",
    "df_pay_seq.head()"
   ]
  },
  {
   "cell_type": "markdown",
   "metadata": {},
   "source": [
    "We're going to ignore the sequential in this analysis and try to create some features that can be used for training. We will use the *mean* of the `installments`, the quantity of splits, the most common `payment_type`, and the *standard deviation* of the `value`."
   ]
  },
  {
   "cell_type": "code",
   "execution_count": 12,
   "metadata": {},
   "outputs": [],
   "source": [
    "def most_frequent_category(row):\n",
    "    '''Calculates the most frequent value in 'row'. \n",
    "    If there's more than one value, the values will be sorted and separated by comma'''\n",
    "    counts = row.value_counts()\n",
    "    return ','.join(counts[counts == counts.max()].sort_values().index)\n",
    "\n",
    "df_pay = df_pay.groupby(['order_id']).agg(\n",
    "    {'installments': 'mean', \n",
    "     'sequential': 'count', \n",
    "     'payment_type': most_frequent_category, \n",
    "     'value': 'std'}).fillna(0)\n",
    "df_pay = df_pay.rename(columns={'sequential': 'seq_count', 'payment_type': 'preffered_payment', 'value': 'value_std'})"
   ]
  },
  {
   "cell_type": "code",
   "execution_count": 13,
   "metadata": {},
   "outputs": [
    {
     "data": {
      "text/plain": [
       "(2812, 41)"
      ]
     },
     "execution_count": 13,
     "metadata": {},
     "output_type": "execute_result"
    }
   ],
   "source": [
    "df = df.merge(df_pay, left_on='order_id', right_index=True, validate=\"m:1\")\n",
    "df.shape"
   ]
  },
  {
   "cell_type": "markdown",
   "metadata": {},
   "source": [
    "So, our final table has *2812* rows and *41* columns from 4 tables of the dataset."
   ]
  },
  {
   "cell_type": "markdown",
   "metadata": {},
   "source": [
    "### 2. Enriching Data\n",
    "\n",
    "Now We're going to add more features to the table, more specifically we will gather geographical information to our dataset. This is done by extracting data from [Lista de municípios do Brasil por população](https://pt.wikipedia.org/wiki/Lista_de_munic%C3%ADpios_do_Brasil_por_popula%C3%A7%C3%A3o) and [Lista de municípios brasileiros por área decrescente](https://pt.wikipedia.org/wiki/Lista_de_munic%C3%ADpios_brasileiros_por_%C3%A1rea_decrescente) from wikipedia."
   ]
  },
  {
   "cell_type": "code",
   "execution_count": 14,
   "metadata": {},
   "outputs": [],
   "source": [
    "# Population data\n",
    "req_pop = requests.get(\"https://pt.wikipedia.org/wiki/Lista_de_munic%C3%ADpios_do_Brasil_por_popula%C3%A7%C3%A3o\")\n",
    "bs_pop = BeautifulSoup(req_pop.text)\n",
    "table_pop = rows.import_from_html(io.BytesIO(str(bs_pop.find('table')).encode('utf-8')), encoding='utf-8', preserve_html=True)\n",
    "df_pop = pd.DataFrame(rows.export_to_dicts(table_pop))\n",
    "table_sigla = \"\"\"ESTADO,SIGLA\n",
    "Acre,AC\n",
    "Alagoas,AL\n",
    "Amapá,AP\n",
    "Amazonas,AM\n",
    "Bahia,BA\n",
    "Ceará,CE\n",
    "Distrito Federal,DF\n",
    "Espírito Santo,ES\n",
    "Goiás,GO\n",
    "Maranhão,MA\n",
    "Mato Grosso,MT\n",
    "Mato Grosso do Sul,MS\n",
    "Minas Gerais,MG\n",
    "Pará,PA\n",
    "Paraíba,PB\n",
    "Paraná,PR\n",
    "Pernambuco,PE\n",
    "Piauí,PI\n",
    "Rio de Janeiro,RJ\n",
    "Rio Grande do Norte,RN\n",
    "Rio Grande do Sul,RS\n",
    "Rondônia,RO\n",
    "Roraima,RR\n",
    "Santa Catarina,SC\n",
    "São Paulo,SP\n",
    "Sergipe,SE\n",
    "Tocantins,TO\"\"\"\n",
    "df_sigla = pd.read_csv(io.StringIO(table_sigla))\n",
    "\n",
    "df_pop['municipio'] = df_pop['municipio'].str.replace('<[^>]*>', '').str.strip().str.upper().apply(unidecode.unidecode).str.replace('[^\\w\\d\\s]', '')\n",
    "df_pop['unidade_federativa'] = df_pop['unidade_federativa'].str.replace('<[^>]*>', '').str.strip()\n",
    "df_pop['posicao'] = df_pop['posicao'].str.replace('º', '').astype(int)\n",
    "df_pop = df_pop.merge(df_sigla, left_on='unidade_federativa', right_on='ESTADO')\n",
    "df_pop = df_pop.drop(columns=['ESTADO', 'posicao']).rename(columns={'SIGLA': 'sigla'})"
   ]
  },
  {
   "cell_type": "code",
   "execution_count": 15,
   "metadata": {},
   "outputs": [
    {
     "data": {
      "text/html": [
       "<div>\n",
       "<style scoped>\n",
       "    .dataframe tbody tr th:only-of-type {\n",
       "        vertical-align: middle;\n",
       "    }\n",
       "\n",
       "    .dataframe tbody tr th {\n",
       "        vertical-align: top;\n",
       "    }\n",
       "\n",
       "    .dataframe thead th {\n",
       "        text-align: right;\n",
       "    }\n",
       "</style>\n",
       "<table border=\"1\" class=\"dataframe\">\n",
       "  <thead>\n",
       "    <tr style=\"text-align: right;\">\n",
       "      <th></th>\n",
       "      <th>codigo_ibge</th>\n",
       "      <th>municipio</th>\n",
       "      <th>populacao</th>\n",
       "      <th>unidade_federativa</th>\n",
       "      <th>sigla</th>\n",
       "      <th>area_km2</th>\n",
       "      <th>density</th>\n",
       "    </tr>\n",
       "  </thead>\n",
       "  <tbody>\n",
       "    <tr>\n",
       "      <th>0</th>\n",
       "      <td>3550308</td>\n",
       "      <td>SAO PAULO</td>\n",
       "      <td>12106920</td>\n",
       "      <td>São Paulo</td>\n",
       "      <td>SP</td>\n",
       "      <td>1522986.0</td>\n",
       "      <td>7.949462</td>\n",
       "    </tr>\n",
       "    <tr>\n",
       "      <th>1</th>\n",
       "      <td>3518800</td>\n",
       "      <td>GUARULHOS</td>\n",
       "      <td>1349113</td>\n",
       "      <td>São Paulo</td>\n",
       "      <td>SP</td>\n",
       "      <td>318014.0</td>\n",
       "      <td>4.242307</td>\n",
       "    </tr>\n",
       "    <tr>\n",
       "      <th>2</th>\n",
       "      <td>3509502</td>\n",
       "      <td>CAMPINAS</td>\n",
       "      <td>1182429</td>\n",
       "      <td>São Paulo</td>\n",
       "      <td>SP</td>\n",
       "      <td>795697.0</td>\n",
       "      <td>1.486029</td>\n",
       "    </tr>\n",
       "    <tr>\n",
       "      <th>3</th>\n",
       "      <td>3548708</td>\n",
       "      <td>SAO BERNARDO DO CAMPO</td>\n",
       "      <td>827437</td>\n",
       "      <td>São Paulo</td>\n",
       "      <td>SP</td>\n",
       "      <td>406180.0</td>\n",
       "      <td>2.037119</td>\n",
       "    </tr>\n",
       "    <tr>\n",
       "      <th>4</th>\n",
       "      <td>3547809</td>\n",
       "      <td>SANTO ANDRE</td>\n",
       "      <td>715231</td>\n",
       "      <td>São Paulo</td>\n",
       "      <td>SP</td>\n",
       "      <td>174840.0</td>\n",
       "      <td>4.090774</td>\n",
       "    </tr>\n",
       "  </tbody>\n",
       "</table>\n",
       "</div>"
      ],
      "text/plain": [
       "   codigo_ibge              municipio  populacao unidade_federativa sigla  \\\n",
       "0      3550308              SAO PAULO   12106920          São Paulo    SP   \n",
       "1      3518800              GUARULHOS    1349113          São Paulo    SP   \n",
       "2      3509502               CAMPINAS    1182429          São Paulo    SP   \n",
       "3      3548708  SAO BERNARDO DO CAMPO     827437          São Paulo    SP   \n",
       "4      3547809            SANTO ANDRE     715231          São Paulo    SP   \n",
       "\n",
       "    area_km2   density  \n",
       "0  1522986.0  7.949462  \n",
       "1   318014.0  4.242307  \n",
       "2   795697.0  1.486029  \n",
       "3   406180.0  2.037119  \n",
       "4   174840.0  4.090774  "
      ]
     },
     "execution_count": 15,
     "metadata": {},
     "output_type": "execute_result"
    }
   ],
   "source": [
    "# Area data\n",
    "req_area = requests.get('https://pt.wikipedia.org/wiki/Lista_de_munic%C3%ADpios_brasileiros_por_%C3%A1rea_decrescente')\n",
    "bs_area = BeautifulSoup(req_area.text)\n",
    "for tag in bs_area.findAll('a'):\n",
    "    tag.replaceWithChildren()\n",
    "for tag in bs_area.findAll('img'):\n",
    "    tag.decompose()\n",
    "table_area = rows.import_from_html(io.BytesIO(str(bs_area.find('table')).encode('utf-8')), encoding='utf-8', preserve_html=True)\n",
    "df_area = pd.DataFrame(rows.export_to_dicts(table_area))\n",
    "df_area['area_km2'] = df_area['area_km2'].str.replace('<[^>]*>', '').str.strip().str.replace('[,\\s]', '').astype(int)\n",
    "df_area = df_area.drop(columns=['municipio', 'posicao', 'unidade_federativa']).rename(columns={'codigo_do_ibge': 'codigo_ibge'})\n",
    "# Merge tables\n",
    "df_pop = df_pop.merge(df_area, on='codigo_ibge', how='outer')\n",
    "df_pop['density'] = df_pop['populacao']/df_pop['area_km2']\n",
    "df_pop.head()"
   ]
  },
  {
   "cell_type": "code",
   "execution_count": 16,
   "metadata": {},
   "outputs": [
    {
     "data": {
      "text/plain": [
       "(2812, 48)"
      ]
     },
     "execution_count": 16,
     "metadata": {},
     "output_type": "execute_result"
    }
   ],
   "source": [
    "# Merge to the dataset\n",
    "df['customer_city'] = df['customer_city'].str.upper().apply(unidecode.unidecode).str.replace('[^\\w\\d\\s]', '')\n",
    "df = df.merge(df_pop, left_on=['customer_city', 'customer_state'], right_on=['municipio', 'sigla'], how='left')\n",
    "df.shape"
   ]
  },
  {
   "cell_type": "markdown",
   "metadata": {},
   "source": [
    "And so we have a table with some geographical data. The important columns that we added are `populacao` which is the *population* of the city, then the city *area* in the column `area_km2`, the populational `density`, and we also have a column named `codigo_ibge` that is an internal code for each city. With this code we could query the [IBGE API](https://servicodados.ibge.gov.br/api/docs) to further enrich the dadta.\n",
    "\n",
    "### 3. Feature Selection and Engineering\n",
    "\n",
    "Based on this table we can select and tweak the data that is important to us. "
   ]
  },
  {
   "cell_type": "code",
   "execution_count": 17,
   "metadata": {},
   "outputs": [],
   "source": [
    "# Setting up date columns\n",
    "date_columns = [\n",
    "    'order_purchase_timestamp',\n",
    "    'order_aproved_at',\n",
    "    'order_estimated_delivery_date',\n",
    "    'order_delivered_customer_date',\n",
    "    'review_creation_date',\n",
    "    'review_answer_timestamp'\n",
    "]\n",
    "for date_col in date_columns:\n",
    "    df[date_col] = pd.to_datetime(df[date_col])"
   ]
  },
  {
   "cell_type": "code",
   "execution_count": 18,
   "metadata": {},
   "outputs": [],
   "source": [
    "# Dropping columns\n",
    "drop_columns = [\n",
    "    'id',\n",
    "    'order_id', \n",
    "    'customer_id', \n",
    "    'product_id', \n",
    "    'review_id', \n",
    "    'codigo_ibge', \n",
    "    'unidade_federativa', \n",
    "    'sigla', \n",
    "    'municipio',\n",
    "    'most_voted_subclass',\n",
    "    'most_voted_class',\n",
    "    'customer_zip_code_prefix'\n",
    "]\n",
    "df = df.drop(columns=drop_columns)"
   ]
  },
  {
   "cell_type": "code",
   "execution_count": 19,
   "metadata": {},
   "outputs": [],
   "source": [
    "# Encoding categorical data\n",
    "df_feat = df.copy()\n",
    "one_hot_columns = [\n",
    "    'order_status',\n",
    "    'product_category_name',\n",
    "    'customer_city',\n",
    "    'customer_state',\n",
    "    'preffered_payment'\n",
    "]\n",
    "df_feat = pd.concat([df_feat, pd.get_dummies(df_feat[one_hot_columns])], sort=False, axis=1).drop(columns=one_hot_columns)"
   ]
  },
  {
   "cell_type": "code",
   "execution_count": 20,
   "metadata": {},
   "outputs": [],
   "source": [
    "# Filling empty geographical data\n",
    "df_feat['populacao'] = df_feat['populacao'].fillna(df_pop['populacao'].mean().astype(int))\n",
    "df_feat['area_km2'] = df_feat['area_km2'].fillna(df_pop['area_km2'].mean().astype(int))\n",
    "df_feat['density'] = df_feat['density'].fillna(df_feat['density'].mean())"
   ]
  },
  {
   "cell_type": "code",
   "execution_count": 21,
   "metadata": {},
   "outputs": [],
   "source": [
    "# Creating date features (in days)\n",
    "df_feat['purchase_approved'] = (df_feat['order_aproved_at'] - df_feat['order_purchase_timestamp']).dt.days\n",
    "df_feat['purchase_delivered'] = (df_feat['order_delivered_customer_date'] - df_feat['order_purchase_timestamp']).dt.days\n",
    "df_feat['purchase_estimated'] = (df_feat['order_estimated_delivery_date'] - df_feat['order_purchase_timestamp']).dt.days\n",
    "df_feat['approved_estimated'] = (df_feat['order_estimated_delivery_date'] - df_feat['order_aproved_at']).dt.days\n",
    "df_feat['approved_delivered'] = (df_feat['order_delivered_customer_date'] - df_feat['order_aproved_at']).dt.days\n",
    "df_feat['estimated_delivered'] = (df_feat['order_delivered_customer_date'] - df_feat['order_estimated_delivery_date']).dt.days\n",
    "df_feat['review_answer'] = (df_feat['review_answer_timestamp'] - df_feat['review_creation_date']).dt.days\n",
    "df_feat['purchase_review'] = (df_feat['review_creation_date'] - df_feat['order_purchase_timestamp']).dt.days\n",
    "drop_columns = [\n",
    "    'order_aproved_at',\n",
    "    'order_purchase_timestamp',\n",
    "    'order_delivered_customer_date',\n",
    "    'order_estimated_delivery_date',\n",
    "    'review_creation_date',\n",
    "    'review_answer_timestamp'\n",
    "]\n",
    "df_feat = df_feat.drop(columns=drop_columns)"
   ]
  },
  {
   "cell_type": "code",
   "execution_count": 22,
   "metadata": {},
   "outputs": [],
   "source": [
    "# Creating user features\n",
    "def process_customer_text(rows):\n",
    "    words = [token for token in nltk.word_tokenize(' '.join(rows.fillna(''))) \n",
    "             if token not in nltk.corpus.stopwords.words('portuguese')]\n",
    "    words_set = set(words)\n",
    "    return {\n",
    "        'review_count': len(rows),\n",
    "        'mean_unique_tokens': len(words_set)/len(rows), \n",
    "        'mean_token_length': sum(map(len, words))/(len(words) or 1),\n",
    "        'mean_repeated_words': (len(words)-len(words_set))/len(rows)}\n",
    "\n",
    "df_customer_text = pd.DataFrame(df_pub[['customer_unique_id', 'review_comment_message']].groupby('customer_unique_id')['review_comment_message'].apply(process_customer_text))\n",
    "df_customer_text = df_customer_text.unstack()\n",
    "df_customer_text.columns = df_customer_text.columns.droplevel()\n",
    "df_feat = df_feat.merge(df_customer_text, on='customer_unique_id').drop(columns='customer_unique_id')\n",
    "df_feat['review_comment_message'] = df_feat['review_comment_message'].apply(unidecode.unidecode).str.replace('[^\\w\\d\\s]', '')"
   ]
  },
  {
   "cell_type": "code",
   "execution_count": 23,
   "metadata": {},
   "outputs": [],
   "source": [
    "# Creating review features - Filtering to the 500 most relevant words according to TF-IDF\n",
    "MAX_FEATURES = 500\n",
    "vectorizer = feature_extraction.text.TfidfVectorizer(\n",
    "    stop_words=nltk.corpus.stopwords.words('portuguese'),\n",
    "    max_features=MAX_FEATURES\n",
    ")\n",
    "vectorizer.fit(df_pub['review_comment_message'].fillna(''))\n",
    "words = vectorizer.get_feature_names()\n",
    "\n",
    "df_feat = pd.concat([df_feat, pd.DataFrame(columns=words)], axis=1)\n",
    "df_feat[words] = 0\n",
    "df_feat[words] = vectorizer.transform(df_feat['review_comment_message']).toarray()\n",
    "df_feat = df_feat.drop(columns='review_comment_message')"
   ]
  },
  {
   "cell_type": "code",
   "execution_count": 24,
   "metadata": {},
   "outputs": [
    {
     "data": {
      "text/plain": [
       "(2812, 1420)"
      ]
     },
     "execution_count": 24,
     "metadata": {},
     "output_type": "execute_result"
    }
   ],
   "source": [
    "# Normalizing features\n",
    "df_feat['approved_delivered'] = df_feat['approved_delivered'].fillna(df_feat['approved_delivered'].median())\n",
    "df_feat['purchase_delivered'] = df_feat['purchase_delivered'].fillna(df_feat['purchase_delivered'].median())\n",
    "df_feat['estimated_delivered'] = df_feat['estimated_delivered'].fillna(df_feat['estimated_delivered'].median())\n",
    "labels = [\n",
    "    'votes_before_estimate',\n",
    "    'votes_delayed',\n",
    "    'votes_low_quality',\n",
    "    'votes_return',\n",
    "    'votes_not_as_anounced',\n",
    "    'votes_partial_delivery',\n",
    "    'votes_other_delivery',\n",
    "    'votes_other_order',\n",
    "    'votes_satisfied'\n",
    "]\n",
    "\n",
    "non_categorical_columns = ~df_feat.isin([0, 1]).all() & ~df_feat.columns.isin(words+labels)\n",
    "non_categorical_columns = non_categorical_columns[non_categorical_columns].index\n",
    "normalizer = preprocessing.Normalizer()\n",
    "df_feat[non_categorical_columns] = normalizer.fit_transform(df_feat[non_categorical_columns])\n",
    "df_feat.shape"
   ]
  },
  {
   "cell_type": "markdown",
   "metadata": {},
   "source": [
    "Finally, we created a dataframe with *2812* rows and *1419* columns. Of this columns 9 of them are *labels* and the rest are *features*.\n",
    "### 4. Training Model\n",
    "We intend to create a **logisic model** for this set of features, unfortunately we will suffer from the [curse of dimensionality](https://en.wikipedia.org/wiki/Curse_of_dimensionality). To address that we will use the first model to have insights of the most important features, then we can trim the features to have a better generic model. We also are going to use the votes to *boost* the model."
   ]
  },
  {
   "cell_type": "code",
   "execution_count": 25,
   "metadata": {},
   "outputs": [],
   "source": [
    "# Creating training and test sets\n",
    "labels = [\n",
    "    'votes_before_estimate',\n",
    "    'votes_delayed',\n",
    "    'votes_low_quality',\n",
    "    'votes_return',\n",
    "    'votes_not_as_anounced',\n",
    "    'votes_partial_delivery',\n",
    "    'votes_other_delivery',\n",
    "    'votes_other_order',\n",
    "    'votes_satisfied'\n",
    "]\n",
    "Y = df_feat[labels]\n",
    "X = df_feat.drop(columns=labels)\n",
    "\n",
    "def calculate_label(row, label_qt):\n",
    "    max_votes = row.max()\n",
    "    for label in label_qt.index:\n",
    "        if row[label] == max_votes:\n",
    "            return (label[6:], row[label])\n",
    "y, weights = zip(*Y.apply(calculate_label, axis=1, args=(Y.sum(),)))\n",
    "\n",
    "X_train, X_test, y_train, y_test, w_train, w_test = model_selection.train_test_split(X, y, weights, random_state=42)"
   ]
  },
  {
   "cell_type": "code",
   "execution_count": 26,
   "metadata": {},
   "outputs": [
    {
     "data": {
      "text/plain": [
       "LogisticRegressionCV(Cs=10, class_weight=None, cv=None, dual=False,\n",
       "           fit_intercept=True, intercept_scaling=1.0, max_iter=100,\n",
       "           multi_class='ovr', n_jobs=1, penalty='l2', random_state=None,\n",
       "           refit=True, scoring=None, solver='lbfgs', tol=0.0001, verbose=0)"
      ]
     },
     "execution_count": 26,
     "metadata": {},
     "output_type": "execute_result"
    }
   ],
   "source": [
    "model1 = linear_model.LogisticRegressionCV()\n",
    "model1.fit(X_train, y_train, w_train)"
   ]
  },
  {
   "cell_type": "markdown",
   "metadata": {},
   "source": [
    "### 5. Model Evaluation"
   ]
  },
  {
   "cell_type": "code",
   "execution_count": 27,
   "metadata": {},
   "outputs": [
    {
     "name": "stdout",
     "output_type": "stream",
     "text": [
      "Model Accuracy Train: 97.2 %\n",
      "Model Accuracy Test: 76.8 %\n",
      "Confusion matrix:\n"
     ]
    },
    {
     "data": {
      "text/html": [
       "<div>\n",
       "<style scoped>\n",
       "    .dataframe tbody tr th:only-of-type {\n",
       "        vertical-align: middle;\n",
       "    }\n",
       "\n",
       "    .dataframe tbody tr th {\n",
       "        vertical-align: top;\n",
       "    }\n",
       "\n",
       "    .dataframe thead th {\n",
       "        text-align: right;\n",
       "    }\n",
       "</style>\n",
       "<table border=\"1\" class=\"dataframe\">\n",
       "  <thead>\n",
       "    <tr style=\"text-align: right;\">\n",
       "      <th></th>\n",
       "      <th>before_estimate</th>\n",
       "      <th>delayed</th>\n",
       "      <th>low_quality</th>\n",
       "      <th>return</th>\n",
       "      <th>not_as_anounced</th>\n",
       "      <th>partial_delivery</th>\n",
       "      <th>other_delivery</th>\n",
       "      <th>other_order</th>\n",
       "      <th>satisfied</th>\n",
       "    </tr>\n",
       "  </thead>\n",
       "  <tbody>\n",
       "    <tr>\n",
       "      <th>before_estimate</th>\n",
       "      <td>80</td>\n",
       "      <td>4</td>\n",
       "      <td>3</td>\n",
       "      <td>1</td>\n",
       "      <td>0</td>\n",
       "      <td>0</td>\n",
       "      <td>1</td>\n",
       "      <td>0</td>\n",
       "      <td>16</td>\n",
       "    </tr>\n",
       "    <tr>\n",
       "      <th>delayed</th>\n",
       "      <td>1</td>\n",
       "      <td>62</td>\n",
       "      <td>0</td>\n",
       "      <td>0</td>\n",
       "      <td>7</td>\n",
       "      <td>1</td>\n",
       "      <td>6</td>\n",
       "      <td>1</td>\n",
       "      <td>11</td>\n",
       "    </tr>\n",
       "    <tr>\n",
       "      <th>low_quality</th>\n",
       "      <td>0</td>\n",
       "      <td>3</td>\n",
       "      <td>11</td>\n",
       "      <td>2</td>\n",
       "      <td>0</td>\n",
       "      <td>0</td>\n",
       "      <td>4</td>\n",
       "      <td>0</td>\n",
       "      <td>13</td>\n",
       "    </tr>\n",
       "    <tr>\n",
       "      <th>return</th>\n",
       "      <td>0</td>\n",
       "      <td>7</td>\n",
       "      <td>4</td>\n",
       "      <td>23</td>\n",
       "      <td>0</td>\n",
       "      <td>0</td>\n",
       "      <td>3</td>\n",
       "      <td>5</td>\n",
       "      <td>5</td>\n",
       "    </tr>\n",
       "    <tr>\n",
       "      <th>not_as_anounced</th>\n",
       "      <td>1</td>\n",
       "      <td>0</td>\n",
       "      <td>2</td>\n",
       "      <td>0</td>\n",
       "      <td>5</td>\n",
       "      <td>0</td>\n",
       "      <td>0</td>\n",
       "      <td>0</td>\n",
       "      <td>4</td>\n",
       "    </tr>\n",
       "    <tr>\n",
       "      <th>partial_delivery</th>\n",
       "      <td>0</td>\n",
       "      <td>2</td>\n",
       "      <td>0</td>\n",
       "      <td>0</td>\n",
       "      <td>0</td>\n",
       "      <td>2</td>\n",
       "      <td>0</td>\n",
       "      <td>0</td>\n",
       "      <td>1</td>\n",
       "    </tr>\n",
       "    <tr>\n",
       "      <th>other_delivery</th>\n",
       "      <td>0</td>\n",
       "      <td>9</td>\n",
       "      <td>0</td>\n",
       "      <td>1</td>\n",
       "      <td>0</td>\n",
       "      <td>0</td>\n",
       "      <td>58</td>\n",
       "      <td>1</td>\n",
       "      <td>1</td>\n",
       "    </tr>\n",
       "    <tr>\n",
       "      <th>other_order</th>\n",
       "      <td>0</td>\n",
       "      <td>6</td>\n",
       "      <td>1</td>\n",
       "      <td>2</td>\n",
       "      <td>1</td>\n",
       "      <td>0</td>\n",
       "      <td>1</td>\n",
       "      <td>10</td>\n",
       "      <td>1</td>\n",
       "    </tr>\n",
       "    <tr>\n",
       "      <th>satisfied</th>\n",
       "      <td>18</td>\n",
       "      <td>2</td>\n",
       "      <td>4</td>\n",
       "      <td>4</td>\n",
       "      <td>2</td>\n",
       "      <td>0</td>\n",
       "      <td>1</td>\n",
       "      <td>0</td>\n",
       "      <td>289</td>\n",
       "    </tr>\n",
       "  </tbody>\n",
       "</table>\n",
       "</div>"
      ],
      "text/plain": [
       "                  before_estimate  delayed  low_quality  return  \\\n",
       "before_estimate                80        4            3       1   \n",
       "delayed                         1       62            0       0   \n",
       "low_quality                     0        3           11       2   \n",
       "return                          0        7            4      23   \n",
       "not_as_anounced                 1        0            2       0   \n",
       "partial_delivery                0        2            0       0   \n",
       "other_delivery                  0        9            0       1   \n",
       "other_order                     0        6            1       2   \n",
       "satisfied                      18        2            4       4   \n",
       "\n",
       "                  not_as_anounced  partial_delivery  other_delivery  \\\n",
       "before_estimate                 0                 0               1   \n",
       "delayed                         7                 1               6   \n",
       "low_quality                     0                 0               4   \n",
       "return                          0                 0               3   \n",
       "not_as_anounced                 5                 0               0   \n",
       "partial_delivery                0                 2               0   \n",
       "other_delivery                  0                 0              58   \n",
       "other_order                     1                 0               1   \n",
       "satisfied                       2                 0               1   \n",
       "\n",
       "                  other_order  satisfied  \n",
       "before_estimate             0         16  \n",
       "delayed                     1         11  \n",
       "low_quality                 0         13  \n",
       "return                      5          5  \n",
       "not_as_anounced             0          4  \n",
       "partial_delivery            0          1  \n",
       "other_delivery              1          1  \n",
       "other_order                10          1  \n",
       "satisfied                   0        289  "
      ]
     },
     "execution_count": 27,
     "metadata": {},
     "output_type": "execute_result"
    },
    {
     "data": {
      "image/png": "[encoded data removed]",
      "text/plain": [
       "<Figure size 432x432 with 1 Axes>"
      ]
     },
     "metadata": {
      "needs_background": "light"
     },
     "output_type": "display_data"
    }
   ],
   "source": [
    "labels2 = [label[6:] for label in labels]\n",
    "print(\"Model Accuracy Train:\", (model1.score(X_train, y_train)*100).round(1), \"%\")\n",
    "print(\"Model Accuracy Test:\", (model1.score(X_test, y_test)*100).round(1), \"%\")\n",
    "print(\"Confusion matrix:\")\n",
    "confusion = metrics.confusion_matrix(y_test, model1.predict(X_test))\n",
    "plt.figure(figsize=(6,6))\n",
    "plt.matshow(confusion, fignum=1)\n",
    "pd.DataFrame(confusion, columns=labels2, index=labels2)"
   ]
  },
  {
   "cell_type": "code",
   "execution_count": 28,
   "metadata": {},
   "outputs": [
    {
     "data": {
      "text/html": [
       "<div>\n",
       "<style scoped>\n",
       "    .dataframe tbody tr th:only-of-type {\n",
       "        vertical-align: middle;\n",
       "    }\n",
       "\n",
       "    .dataframe tbody tr th {\n",
       "        vertical-align: top;\n",
       "    }\n",
       "\n",
       "    .dataframe thead th {\n",
       "        text-align: right;\n",
       "    }\n",
       "</style>\n",
       "<table border=\"1\" class=\"dataframe\">\n",
       "  <thead>\n",
       "    <tr style=\"text-align: right;\">\n",
       "      <th></th>\n",
       "      <th>predicted</th>\n",
       "      <th>true</th>\n",
       "    </tr>\n",
       "  </thead>\n",
       "  <tbody>\n",
       "    <tr>\n",
       "      <th>0</th>\n",
       "      <td>low_quality</td>\n",
       "      <td>satisfied</td>\n",
       "    </tr>\n",
       "    <tr>\n",
       "      <th>1</th>\n",
       "      <td>satisfied</td>\n",
       "      <td>before_estimate</td>\n",
       "    </tr>\n",
       "    <tr>\n",
       "      <th>2</th>\n",
       "      <td>not_as_anounced</td>\n",
       "      <td>before_estimate</td>\n",
       "    </tr>\n",
       "    <tr>\n",
       "      <th>3</th>\n",
       "      <td>before_estimate</td>\n",
       "      <td>before_estimate</td>\n",
       "    </tr>\n",
       "    <tr>\n",
       "      <th>4</th>\n",
       "      <td>delayed</td>\n",
       "      <td>delayed</td>\n",
       "    </tr>\n",
       "    <tr>\n",
       "      <th>5</th>\n",
       "      <td>partial_delivery</td>\n",
       "      <td>partial_delivery</td>\n",
       "    </tr>\n",
       "    <tr>\n",
       "      <th>6</th>\n",
       "      <td>partial_delivery</td>\n",
       "      <td>partial_delivery</td>\n",
       "    </tr>\n",
       "    <tr>\n",
       "      <th>7</th>\n",
       "      <td>satisfied</td>\n",
       "      <td>satisfied</td>\n",
       "    </tr>\n",
       "    <tr>\n",
       "      <th>8</th>\n",
       "      <td>satisfied</td>\n",
       "      <td>satisfied</td>\n",
       "    </tr>\n",
       "    <tr>\n",
       "      <th>9</th>\n",
       "      <td>satisfied</td>\n",
       "      <td>satisfied</td>\n",
       "    </tr>\n",
       "    <tr>\n",
       "      <th>10</th>\n",
       "      <td>before_estimate</td>\n",
       "      <td>before_estimate</td>\n",
       "    </tr>\n",
       "    <tr>\n",
       "      <th>11</th>\n",
       "      <td>satisfied</td>\n",
       "      <td>before_estimate</td>\n",
       "    </tr>\n",
       "    <tr>\n",
       "      <th>12</th>\n",
       "      <td>delayed</td>\n",
       "      <td>return</td>\n",
       "    </tr>\n",
       "    <tr>\n",
       "      <th>13</th>\n",
       "      <td>before_estimate</td>\n",
       "      <td>before_estimate</td>\n",
       "    </tr>\n",
       "    <tr>\n",
       "      <th>14</th>\n",
       "      <td>before_estimate</td>\n",
       "      <td>before_estimate</td>\n",
       "    </tr>\n",
       "    <tr>\n",
       "      <th>15</th>\n",
       "      <td>partial_delivery</td>\n",
       "      <td>partial_delivery</td>\n",
       "    </tr>\n",
       "    <tr>\n",
       "      <th>16</th>\n",
       "      <td>satisfied</td>\n",
       "      <td>satisfied</td>\n",
       "    </tr>\n",
       "    <tr>\n",
       "      <th>17</th>\n",
       "      <td>other_delivery</td>\n",
       "      <td>satisfied</td>\n",
       "    </tr>\n",
       "    <tr>\n",
       "      <th>18</th>\n",
       "      <td>satisfied</td>\n",
       "      <td>satisfied</td>\n",
       "    </tr>\n",
       "    <tr>\n",
       "      <th>19</th>\n",
       "      <td>before_estimate</td>\n",
       "      <td>before_estimate</td>\n",
       "    </tr>\n",
       "  </tbody>\n",
       "</table>\n",
       "</div>"
      ],
      "text/plain": [
       "           predicted              true\n",
       "0        low_quality         satisfied\n",
       "1          satisfied   before_estimate\n",
       "2    not_as_anounced   before_estimate\n",
       "3    before_estimate   before_estimate\n",
       "4            delayed           delayed\n",
       "5   partial_delivery  partial_delivery\n",
       "6   partial_delivery  partial_delivery\n",
       "7          satisfied         satisfied\n",
       "8          satisfied         satisfied\n",
       "9          satisfied         satisfied\n",
       "10   before_estimate   before_estimate\n",
       "11         satisfied   before_estimate\n",
       "12           delayed            return\n",
       "13   before_estimate   before_estimate\n",
       "14   before_estimate   before_estimate\n",
       "15  partial_delivery  partial_delivery\n",
       "16         satisfied         satisfied\n",
       "17    other_delivery         satisfied\n",
       "18         satisfied         satisfied\n",
       "19   before_estimate   before_estimate"
      ]
     },
     "execution_count": 28,
     "metadata": {},
     "output_type": "execute_result"
    }
   ],
   "source": [
    "pd.concat([\n",
    "    pd.DataFrame(model1.predict(X_test)).rename(columns={0: 'predicted'}), \n",
    "    pd.DataFrame(y_test).rename(columns={0: 'true'})], axis=1).head(20)"
   ]
  },
  {
   "cell_type": "code",
   "execution_count": 29,
   "metadata": {},
   "outputs": [
    {
     "data": {
      "text/plain": [
       "<matplotlib.axes._subplots.AxesSubplot at 0x7f53c85610b8>"
      ]
     },
     "execution_count": 29,
     "metadata": {},
     "output_type": "execute_result"
    },
    {
     "data": {
      "image/png": "[encoded data removed]",
      "text/plain": [
       "<Figure size 432x288 with 1 Axes>"
      ]
     },
     "metadata": {},
     "output_type": "display_data"
    }
   ],
   "source": [
    "pd.Series(y_train).value_counts().plot.pie(title='Classes in training set')"
   ]
  },
  {
   "cell_type": "markdown",
   "metadata": {},
   "source": [
    "The model `model1` we trained has *76.8%* accuracy for the test set, a majority class classifier would have around *42%*. By looking at the confusion matrix we see that the classes **before_estimate**, **delayed**, **other_delivery** and **satisfied** have better accuracy. Also, the model is overfitted which we will address later.\n",
    "\n",
    "Let's evaluate the weights of the model to find insights about the data:"
   ]
  },
  {
   "cell_type": "code",
   "execution_count": 30,
   "metadata": {},
   "outputs": [
    {
     "data": {
      "text/plain": [
       "<matplotlib.axes._subplots.AxesSubplot at 0x7f53c8542198>"
      ]
     },
     "execution_count": 30,
     "metadata": {},
     "output_type": "execute_result"
    },
    {
     "data": {
      "image/png": "[encoded data removed]",
      "text/plain": [
       "<Figure size 432x288 with 1 Axes>"
      ]
     },
     "metadata": {
      "needs_background": "light"
     },
     "output_type": "display_data"
    }
   ],
   "source": [
    "pd.Series(model1.intercept_, index=model1.classes_).plot.barh()"
   ]
  },
  {
   "cell_type": "markdown",
   "metadata": {},
   "source": [
    "By looking at the *biases* we see that **satisfied** and **delayed** classes are more likely. While **not as anounced** is less likely and needs more positive weights to be chosen."
   ]
  },
  {
   "cell_type": "code",
   "execution_count": 31,
   "metadata": {},
   "outputs": [
    {
     "data": {
      "image/png": "[encoded data removed]",
      "text/plain": [
       "<Figure size 576x576 with 1 Axes>"
      ]
     },
     "metadata": {
      "needs_background": "light"
     },
     "output_type": "display_data"
    }
   ],
   "source": [
    "df_coef = pd.DataFrame(model1.coef_.T, columns=model1.classes_, index=X.columns)\n",
    "NUMBER_OF_WEIGHTS = 7\n",
    "def plot_weights(df_coef, cls, number):\n",
    "    pd.concat([\n",
    "        df_coef[cls].sort_values().head(number), \n",
    "        df_coef[cls].sort_values().tail(number)]\n",
    "    ).plot.barh(figsize=(8,8), title=\"Highest and lowest weights for '{0}' class\".format(cls))\n",
    "plot_weights(df_coef, 'satisfied', NUMBER_OF_WEIGHTS)"
   ]
  },
  {
   "cell_type": "markdown",
   "metadata": {},
   "source": [
    "As we can see, the weights of the model shows that some words are very likely to indicate that a review is positive. We can also see the other classes weights:"
   ]
  },
  {
   "cell_type": "code",
   "execution_count": 32,
   "metadata": {},
   "outputs": [
    {
     "data": {
      "image/png": "[encoded data removed]",
      "text/plain": [
       "<Figure size 576x576 with 1 Axes>"
      ]
     },
     "metadata": {
      "needs_background": "light"
     },
     "output_type": "display_data"
    }
   ],
   "source": [
    "plot_weights(df_coef, 'before_estimate', NUMBER_OF_WEIGHTS)"
   ]
  },
  {
   "cell_type": "markdown",
   "metadata": {},
   "source": [
    "It's interesting to see that the word **antes** is a very positive weight for **before_estimate** class and very negative for **satisfied**."
   ]
  },
  {
   "cell_type": "code",
   "execution_count": 33,
   "metadata": {},
   "outputs": [
    {
     "data": {
      "image/png": "[encoded data removed]",
      "text/plain": [
       "<Figure size 576x576 with 1 Axes>"
      ]
     },
     "metadata": {
      "needs_background": "light"
     },
     "output_type": "display_data"
    }
   ],
   "source": [
    "plot_weights(df_coef, 'delayed', NUMBER_OF_WEIGHTS)"
   ]
  },
  {
   "cell_type": "code",
   "execution_count": 34,
   "metadata": {},
   "outputs": [
    {
     "data": {
      "image/png": "[encoded data removed]",
      "text/plain": [
       "<Figure size 576x576 with 1 Axes>"
      ]
     },
     "metadata": {
      "needs_background": "light"
     },
     "output_type": "display_data"
    }
   ],
   "source": [
    "plot_weights(df_coef, 'partial_delivery', NUMBER_OF_WEIGHTS)"
   ]
  },
  {
   "cell_type": "code",
   "execution_count": 35,
   "metadata": {},
   "outputs": [
    {
     "data": {
      "image/png": "[encoded data removed]",
      "text/plain": [
       "<Figure size 576x576 with 1 Axes>"
      ]
     },
     "metadata": {
      "needs_background": "light"
     },
     "output_type": "display_data"
    }
   ],
   "source": [
    "plot_weights(df_coef, 'low_quality', NUMBER_OF_WEIGHTS)"
   ]
  },
  {
   "cell_type": "code",
   "execution_count": 36,
   "metadata": {},
   "outputs": [
    {
     "data": {
      "image/png": "[encoded data removed]",
      "text/plain": [
       "<Figure size 576x576 with 1 Axes>"
      ]
     },
     "metadata": {
      "needs_background": "light"
     },
     "output_type": "display_data"
    }
   ],
   "source": [
    "plot_weights(df_coef, 'return', NUMBER_OF_WEIGHTS)"
   ]
  },
  {
   "cell_type": "code",
   "execution_count": 37,
   "metadata": {},
   "outputs": [
    {
     "data": {
      "image/png": "[encoded data removed]",
      "text/plain": [
       "<Figure size 576x576 with 1 Axes>"
      ]
     },
     "metadata": {
      "needs_background": "light"
     },
     "output_type": "display_data"
    }
   ],
   "source": [
    "plot_weights(df_coef, 'other_delivery', NUMBER_OF_WEIGHTS)"
   ]
  },
  {
   "cell_type": "code",
   "execution_count": 38,
   "metadata": {},
   "outputs": [
    {
     "data": {
      "image/png": "[encoded data removed]",
      "text/plain": [
       "<Figure size 576x576 with 1 Axes>"
      ]
     },
     "metadata": {
      "needs_background": "light"
     },
     "output_type": "display_data"
    }
   ],
   "source": [
    "plot_weights(df_coef, 'not_as_anounced', NUMBER_OF_WEIGHTS)"
   ]
  },
  {
   "cell_type": "code",
   "execution_count": 39,
   "metadata": {},
   "outputs": [
    {
     "data": {
      "image/png": "[encoded data removed]",
      "text/plain": [
       "<Figure size 576x576 with 1 Axes>"
      ]
     },
     "metadata": {
      "needs_background": "light"
     },
     "output_type": "display_data"
    }
   ],
   "source": [
    "plot_weights(df_coef, 'other_order', NUMBER_OF_WEIGHTS)"
   ]
  },
  {
   "cell_type": "markdown",
   "metadata": {},
   "source": [
    "We discovered a few things by looking at the class weights for each label of this model.\n",
    "1. *Words* are usually the best features\n",
    "2. There were 3 orders to *Balneario Pinhal* and all of them got delivered **before the estimate** biasing our weights. There are more cases of cities with few data points, indicating that these features are not good for this size of dataset.\n",
    "3. For the **other_order** class we see some cities as indicators of this feature.\n",
    "\n",
    "Now we will check each category of features:"
   ]
  },
  {
   "cell_type": "code",
   "execution_count": 40,
   "metadata": {},
   "outputs": [
    {
     "data": {
      "text/plain": [
       "<matplotlib.axes._subplots.AxesSubplot at 0x7f53c5efbd30>"
      ]
     },
     "execution_count": 40,
     "metadata": {},
     "output_type": "execute_result"
    },
    {
     "data": {
      "image/png": "[encoded data removed]",
      "text/plain": [
       "<Figure size 936x432 with 1 Axes>"
      ]
     },
     "metadata": {
      "needs_background": "light"
     },
     "output_type": "display_data"
    }
   ],
   "source": [
    "df_coef[df_coef.index.str.contains('order')].transpose().boxplot(figsize=(13, 6), rot=10)"
   ]
  },
  {
   "cell_type": "markdown",
   "metadata": {},
   "source": [
    "By looking at the distributions of the features prefixed with *order*, we see that the `order_status` is an important feature for classifying the data, while the others are not."
   ]
  },
  {
   "cell_type": "code",
   "execution_count": 41,
   "metadata": {},
   "outputs": [
    {
     "data": {
      "text/plain": [
       "<matplotlib.axes._subplots.AxesSubplot at 0x7f53c5e7f8d0>"
      ]
     },
     "execution_count": 41,
     "metadata": {},
     "output_type": "execute_result"
    },
    {
     "data": {
      "image/png": "[encoded data removed]",
      "text/plain": [
       "<Figure size 1296x432 with 1 Axes>"
      ]
     },
     "metadata": {
      "needs_background": "light"
     },
     "output_type": "display_data"
    }
   ],
   "source": [
    "df_coef[df_coef.index.str.contains('customer_state')].transpose().boxplot(figsize=(18, 6), rot=20)"
   ]
  },
  {
   "cell_type": "code",
   "execution_count": 42,
   "metadata": {},
   "outputs": [
    {
     "data": {
      "text/plain": [
       "<matplotlib.axes._subplots.AxesSubplot at 0x7f53c59d18d0>"
      ]
     },
     "execution_count": 42,
     "metadata": {},
     "output_type": "execute_result"
    },
    {
     "data": {
      "image/png": "[encoded data removed]",
      "text/plain": [
       "<Figure size 936x432 with 1 Axes>"
      ]
     },
     "metadata": {
      "needs_background": "light"
     },
     "output_type": "display_data"
    }
   ],
   "source": [
    "df_coef[df_coef.index.str.contains('customer_state')].boxplot(figsize=(13, 6), rot=20)"
   ]
  },
  {
   "cell_type": "markdown",
   "metadata": {},
   "source": [
    "We see that the states features have a large distribuition of weights, in special for the **return** class and the *Mato Grosso* state, so we intend to keep them."
   ]
  },
  {
   "cell_type": "code",
   "execution_count": 43,
   "metadata": {},
   "outputs": [
    {
     "data": {
      "text/html": [
       "<div>\n",
       "<style scoped>\n",
       "    .dataframe tbody tr th:only-of-type {\n",
       "        vertical-align: middle;\n",
       "    }\n",
       "\n",
       "    .dataframe tbody tr th {\n",
       "        vertical-align: top;\n",
       "    }\n",
       "\n",
       "    .dataframe thead th {\n",
       "        text-align: right;\n",
       "    }\n",
       "</style>\n",
       "<table border=\"1\" class=\"dataframe\">\n",
       "  <thead>\n",
       "    <tr style=\"text-align: right;\">\n",
       "      <th></th>\n",
       "      <th>before_estimate</th>\n",
       "      <th>delayed</th>\n",
       "      <th>low_quality</th>\n",
       "      <th>not_as_anounced</th>\n",
       "      <th>other_delivery</th>\n",
       "      <th>other_order</th>\n",
       "      <th>partial_delivery</th>\n",
       "      <th>return</th>\n",
       "      <th>satisfied</th>\n",
       "    </tr>\n",
       "  </thead>\n",
       "  <tbody>\n",
       "    <tr>\n",
       "      <th>product_category_name_artes</th>\n",
       "      <td>-0.254287</td>\n",
       "      <td>-0.962696</td>\n",
       "      <td>1.311816</td>\n",
       "      <td>6.828507</td>\n",
       "      <td>-0.106985</td>\n",
       "      <td>-0.207179</td>\n",
       "      <td>-0.151295</td>\n",
       "      <td>-0.106531</td>\n",
       "      <td>-0.338102</td>\n",
       "    </tr>\n",
       "    <tr>\n",
       "      <th>product_category_name_bebes</th>\n",
       "      <td>0.543111</td>\n",
       "      <td>-0.024734</td>\n",
       "      <td>0.107017</td>\n",
       "      <td>0.940672</td>\n",
       "      <td>1.623455</td>\n",
       "      <td>-0.509440</td>\n",
       "      <td>1.240160</td>\n",
       "      <td>-4.378157</td>\n",
       "      <td>-0.201092</td>\n",
       "    </tr>\n",
       "    <tr>\n",
       "      <th>product_category_name_eletrodomesticos</th>\n",
       "      <td>0.658944</td>\n",
       "      <td>-0.863881</td>\n",
       "      <td>-1.189324</td>\n",
       "      <td>5.931906</td>\n",
       "      <td>-0.600916</td>\n",
       "      <td>-0.150163</td>\n",
       "      <td>1.731360</td>\n",
       "      <td>3.245128</td>\n",
       "      <td>-1.455523</td>\n",
       "    </tr>\n",
       "    <tr>\n",
       "      <th>product_category_name_relogios_presentes</th>\n",
       "      <td>0.076763</td>\n",
       "      <td>-0.107152</td>\n",
       "      <td>0.028978</td>\n",
       "      <td>-7.334142</td>\n",
       "      <td>-1.089634</td>\n",
       "      <td>0.417925</td>\n",
       "      <td>-1.954800</td>\n",
       "      <td>1.535657</td>\n",
       "      <td>0.460575</td>\n",
       "    </tr>\n",
       "  </tbody>\n",
       "</table>\n",
       "</div>"
      ],
      "text/plain": [
       "                                          before_estimate   delayed  \\\n",
       "product_category_name_artes                     -0.254287 -0.962696   \n",
       "product_category_name_bebes                      0.543111 -0.024734   \n",
       "product_category_name_eletrodomesticos           0.658944 -0.863881   \n",
       "product_category_name_relogios_presentes         0.076763 -0.107152   \n",
       "\n",
       "                                          low_quality  not_as_anounced  \\\n",
       "product_category_name_artes                  1.311816         6.828507   \n",
       "product_category_name_bebes                  0.107017         0.940672   \n",
       "product_category_name_eletrodomesticos      -1.189324         5.931906   \n",
       "product_category_name_relogios_presentes     0.028978        -7.334142   \n",
       "\n",
       "                                          other_delivery  other_order  \\\n",
       "product_category_name_artes                    -0.106985    -0.207179   \n",
       "product_category_name_bebes                     1.623455    -0.509440   \n",
       "product_category_name_eletrodomesticos         -0.600916    -0.150163   \n",
       "product_category_name_relogios_presentes       -1.089634     0.417925   \n",
       "\n",
       "                                          partial_delivery    return  \\\n",
       "product_category_name_artes                      -0.151295 -0.106531   \n",
       "product_category_name_bebes                       1.240160 -4.378157   \n",
       "product_category_name_eletrodomesticos            1.731360  3.245128   \n",
       "product_category_name_relogios_presentes         -1.954800  1.535657   \n",
       "\n",
       "                                          satisfied  \n",
       "product_category_name_artes               -0.338102  \n",
       "product_category_name_bebes               -0.201092  \n",
       "product_category_name_eletrodomesticos    -1.455523  \n",
       "product_category_name_relogios_presentes   0.460575  "
      ]
     },
     "execution_count": 43,
     "metadata": {},
     "output_type": "execute_result"
    },
    {
     "data": {
      "image/png": "[encoded data removed]",
      "text/plain": [
       "<Figure size 648x288 with 1 Axes>"
      ]
     },
     "metadata": {
      "needs_background": "light"
     },
     "output_type": "display_data"
    }
   ],
   "source": [
    "categories_features_regex = 'product_category_name_bebes|product_category_name_artes|product_category_name_eletrodomesticos$|product_category_name_relogios_presentes'\n",
    "plt.matshow(df_coef[df_coef.index.str.contains(categories_features_regex)])\n",
    "df_coef[df_coef.index.str.contains(categories_features_regex)]"
   ]
  },
  {
   "cell_type": "markdown",
   "metadata": {},
   "source": [
    "For the features that starts with the prefix *product_*, we have found that their weights are considerable and the most relevant are *eletrodomesticos* and *artes* that are very likely to be of the **not as anounced** class, while *bebes* is likely not to belong to the **return** class, Nor *relogios and presentes* is likely to be **not as anounced**."
   ]
  },
  {
   "cell_type": "code",
   "execution_count": 44,
   "metadata": {},
   "outputs": [
    {
     "data": {
      "text/html": [
       "<div>\n",
       "<style scoped>\n",
       "    .dataframe tbody tr th:only-of-type {\n",
       "        vertical-align: middle;\n",
       "    }\n",
       "\n",
       "    .dataframe tbody tr th {\n",
       "        vertical-align: top;\n",
       "    }\n",
       "\n",
       "    .dataframe thead th {\n",
       "        text-align: right;\n",
       "    }\n",
       "</style>\n",
       "<table border=\"1\" class=\"dataframe\">\n",
       "  <thead>\n",
       "    <tr style=\"text-align: right;\">\n",
       "      <th></th>\n",
       "      <th>before_estimate</th>\n",
       "      <th>delayed</th>\n",
       "      <th>low_quality</th>\n",
       "      <th>not_as_anounced</th>\n",
       "      <th>other_delivery</th>\n",
       "      <th>other_order</th>\n",
       "      <th>partial_delivery</th>\n",
       "      <th>return</th>\n",
       "      <th>satisfied</th>\n",
       "    </tr>\n",
       "  </thead>\n",
       "  <tbody>\n",
       "    <tr>\n",
       "      <th>preffered_payment_boleto</th>\n",
       "      <td>-1.301412</td>\n",
       "      <td>-0.241780</td>\n",
       "      <td>0.033980</td>\n",
       "      <td>1.095535</td>\n",
       "      <td>0.473401</td>\n",
       "      <td>-1.039331</td>\n",
       "      <td>0.019754</td>\n",
       "      <td>0.045963</td>\n",
       "      <td>0.985079</td>\n",
       "    </tr>\n",
       "    <tr>\n",
       "      <th>preffered_payment_credit_card</th>\n",
       "      <td>-0.806465</td>\n",
       "      <td>-0.197652</td>\n",
       "      <td>-0.354865</td>\n",
       "      <td>0.373529</td>\n",
       "      <td>0.238216</td>\n",
       "      <td>1.584876</td>\n",
       "      <td>-0.552429</td>\n",
       "      <td>0.147116</td>\n",
       "      <td>0.790100</td>\n",
       "    </tr>\n",
       "    <tr>\n",
       "      <th>preffered_payment_credit_card,voucher</th>\n",
       "      <td>0.693123</td>\n",
       "      <td>-0.009560</td>\n",
       "      <td>-0.009135</td>\n",
       "      <td>-0.007573</td>\n",
       "      <td>-0.002522</td>\n",
       "      <td>-0.001142</td>\n",
       "      <td>-0.000513</td>\n",
       "      <td>-0.054667</td>\n",
       "      <td>-1.013233</td>\n",
       "    </tr>\n",
       "    <tr>\n",
       "      <th>preffered_payment_debit_card</th>\n",
       "      <td>0.854094</td>\n",
       "      <td>-0.458728</td>\n",
       "      <td>0.474446</td>\n",
       "      <td>-3.054154</td>\n",
       "      <td>1.255202</td>\n",
       "      <td>-0.128459</td>\n",
       "      <td>-0.144154</td>\n",
       "      <td>-1.186305</td>\n",
       "      <td>-0.414575</td>\n",
       "    </tr>\n",
       "    <tr>\n",
       "      <th>preffered_payment_voucher</th>\n",
       "      <td>0.213535</td>\n",
       "      <td>0.870817</td>\n",
       "      <td>-0.230045</td>\n",
       "      <td>1.071641</td>\n",
       "      <td>-1.028554</td>\n",
       "      <td>-0.236906</td>\n",
       "      <td>0.578196</td>\n",
       "      <td>-0.436716</td>\n",
       "      <td>-0.075020</td>\n",
       "    </tr>\n",
       "    <tr>\n",
       "      <th>preffered_payment_voucher,credit_card</th>\n",
       "      <td>0.340959</td>\n",
       "      <td>0.044195</td>\n",
       "      <td>0.076249</td>\n",
       "      <td>0.253415</td>\n",
       "      <td>-0.957682</td>\n",
       "      <td>-0.179151</td>\n",
       "      <td>0.044278</td>\n",
       "      <td>1.435048</td>\n",
       "      <td>-0.267241</td>\n",
       "    </tr>\n",
       "  </tbody>\n",
       "</table>\n",
       "</div>"
      ],
      "text/plain": [
       "                                       before_estimate   delayed  low_quality  \\\n",
       "preffered_payment_boleto                     -1.301412 -0.241780     0.033980   \n",
       "preffered_payment_credit_card                -0.806465 -0.197652    -0.354865   \n",
       "preffered_payment_credit_card,voucher         0.693123 -0.009560    -0.009135   \n",
       "preffered_payment_debit_card                  0.854094 -0.458728     0.474446   \n",
       "preffered_payment_voucher                     0.213535  0.870817    -0.230045   \n",
       "preffered_payment_voucher,credit_card         0.340959  0.044195     0.076249   \n",
       "\n",
       "                                       not_as_anounced  other_delivery  \\\n",
       "preffered_payment_boleto                      1.095535        0.473401   \n",
       "preffered_payment_credit_card                 0.373529        0.238216   \n",
       "preffered_payment_credit_card,voucher        -0.007573       -0.002522   \n",
       "preffered_payment_debit_card                 -3.054154        1.255202   \n",
       "preffered_payment_voucher                     1.071641       -1.028554   \n",
       "preffered_payment_voucher,credit_card         0.253415       -0.957682   \n",
       "\n",
       "                                       other_order  partial_delivery  \\\n",
       "preffered_payment_boleto                 -1.039331          0.019754   \n",
       "preffered_payment_credit_card             1.584876         -0.552429   \n",
       "preffered_payment_credit_card,voucher    -0.001142         -0.000513   \n",
       "preffered_payment_debit_card             -0.128459         -0.144154   \n",
       "preffered_payment_voucher                -0.236906          0.578196   \n",
       "preffered_payment_voucher,credit_card    -0.179151          0.044278   \n",
       "\n",
       "                                         return  satisfied  \n",
       "preffered_payment_boleto               0.045963   0.985079  \n",
       "preffered_payment_credit_card          0.147116   0.790100  \n",
       "preffered_payment_credit_card,voucher -0.054667  -1.013233  \n",
       "preffered_payment_debit_card          -1.186305  -0.414575  \n",
       "preffered_payment_voucher             -0.436716  -0.075020  \n",
       "preffered_payment_voucher,credit_card  1.435048  -0.267241  "
      ]
     },
     "execution_count": 44,
     "metadata": {},
     "output_type": "execute_result"
    },
    {
     "data": {
      "image/png": "[encoded data removed]",
      "text/plain": [
       "<Figure size 432x288 with 1 Axes>"
      ]
     },
     "metadata": {
      "needs_background": "light"
     },
     "output_type": "display_data"
    }
   ],
   "source": [
    "plt.matshow(df_coef[df_coef.index.str.contains('preffered_payment')])\n",
    "df_coef[df_coef.index.str.contains('preffered_payment')]"
   ]
  },
  {
   "cell_type": "markdown",
   "metadata": {},
   "source": [
    "By looking at the `preffered_payment` features, we see that payments with *credit_card* and *voucher* are more likely to be classified as **return**, while *debt_card* is complains about **other_order**. Customers that buys with *debt card* are not likely to complain that a product is **not as anounced*."
   ]
  },
  {
   "cell_type": "code",
   "execution_count": 45,
   "metadata": {},
   "outputs": [
    {
     "data": {
      "text/html": [
       "<div>\n",
       "<style scoped>\n",
       "    .dataframe tbody tr th:only-of-type {\n",
       "        vertical-align: middle;\n",
       "    }\n",
       "\n",
       "    .dataframe tbody tr th {\n",
       "        vertical-align: top;\n",
       "    }\n",
       "\n",
       "    .dataframe thead th {\n",
       "        text-align: right;\n",
       "    }\n",
       "</style>\n",
       "<table border=\"1\" class=\"dataframe\">\n",
       "  <thead>\n",
       "    <tr style=\"text-align: right;\">\n",
       "      <th></th>\n",
       "      <th>before_estimate</th>\n",
       "      <th>delayed</th>\n",
       "      <th>low_quality</th>\n",
       "      <th>not_as_anounced</th>\n",
       "      <th>other_delivery</th>\n",
       "      <th>other_order</th>\n",
       "      <th>partial_delivery</th>\n",
       "      <th>return</th>\n",
       "      <th>satisfied</th>\n",
       "    </tr>\n",
       "  </thead>\n",
       "  <tbody>\n",
       "    <tr>\n",
       "      <th>order_products_value</th>\n",
       "      <td>0.002305</td>\n",
       "      <td>0.011304</td>\n",
       "      <td>0.000471</td>\n",
       "      <td>0.069908</td>\n",
       "      <td>-0.023016</td>\n",
       "      <td>-0.004312</td>\n",
       "      <td>-0.024018</td>\n",
       "      <td>0.011546</td>\n",
       "      <td>-0.003607</td>\n",
       "    </tr>\n",
       "    <tr>\n",
       "      <th>order_freight_value</th>\n",
       "      <td>-0.001440</td>\n",
       "      <td>0.001054</td>\n",
       "      <td>0.000328</td>\n",
       "      <td>-0.004043</td>\n",
       "      <td>-0.001407</td>\n",
       "      <td>-0.000573</td>\n",
       "      <td>0.000192</td>\n",
       "      <td>0.000559</td>\n",
       "      <td>0.002758</td>\n",
       "    </tr>\n",
       "    <tr>\n",
       "      <th>review_score</th>\n",
       "      <td>-0.000102</td>\n",
       "      <td>-0.000497</td>\n",
       "      <td>-0.000384</td>\n",
       "      <td>-0.001105</td>\n",
       "      <td>-0.000166</td>\n",
       "      <td>-0.000107</td>\n",
       "      <td>-0.000268</td>\n",
       "      <td>-0.000443</td>\n",
       "      <td>0.001560</td>\n",
       "    </tr>\n",
       "    <tr>\n",
       "      <th>installments</th>\n",
       "      <td>-0.000131</td>\n",
       "      <td>0.000026</td>\n",
       "      <td>-0.000209</td>\n",
       "      <td>0.000311</td>\n",
       "      <td>-0.000377</td>\n",
       "      <td>-0.000125</td>\n",
       "      <td>0.000815</td>\n",
       "      <td>-0.000235</td>\n",
       "      <td>0.000286</td>\n",
       "    </tr>\n",
       "    <tr>\n",
       "      <th>value_std</th>\n",
       "      <td>-0.000122</td>\n",
       "      <td>-0.001400</td>\n",
       "      <td>0.001379</td>\n",
       "      <td>-0.003489</td>\n",
       "      <td>-0.000197</td>\n",
       "      <td>-0.000042</td>\n",
       "      <td>0.001003</td>\n",
       "      <td>-0.000524</td>\n",
       "      <td>-0.000332</td>\n",
       "    </tr>\n",
       "    <tr>\n",
       "      <th>review_answer</th>\n",
       "      <td>-0.000214</td>\n",
       "      <td>0.000147</td>\n",
       "      <td>0.000145</td>\n",
       "      <td>-0.003513</td>\n",
       "      <td>-0.000015</td>\n",
       "      <td>-0.000106</td>\n",
       "      <td>-0.001443</td>\n",
       "      <td>0.000198</td>\n",
       "      <td>0.000477</td>\n",
       "    </tr>\n",
       "    <tr>\n",
       "      <th>review_count</th>\n",
       "      <td>-0.000033</td>\n",
       "      <td>-0.000094</td>\n",
       "      <td>-0.000122</td>\n",
       "      <td>0.000253</td>\n",
       "      <td>-0.000120</td>\n",
       "      <td>-0.000022</td>\n",
       "      <td>0.000363</td>\n",
       "      <td>-0.000180</td>\n",
       "      <td>0.000113</td>\n",
       "    </tr>\n",
       "  </tbody>\n",
       "</table>\n",
       "</div>"
      ],
      "text/plain": [
       "                      before_estimate   delayed  low_quality  not_as_anounced  \\\n",
       "order_products_value         0.002305  0.011304     0.000471         0.069908   \n",
       "order_freight_value         -0.001440  0.001054     0.000328        -0.004043   \n",
       "review_score                -0.000102 -0.000497    -0.000384        -0.001105   \n",
       "installments                -0.000131  0.000026    -0.000209         0.000311   \n",
       "value_std                   -0.000122 -0.001400     0.001379        -0.003489   \n",
       "review_answer               -0.000214  0.000147     0.000145        -0.003513   \n",
       "review_count                -0.000033 -0.000094    -0.000122         0.000253   \n",
       "\n",
       "                      other_delivery  other_order  partial_delivery    return  \\\n",
       "order_products_value       -0.023016    -0.004312         -0.024018  0.011546   \n",
       "order_freight_value        -0.001407    -0.000573          0.000192  0.000559   \n",
       "review_score               -0.000166    -0.000107         -0.000268 -0.000443   \n",
       "installments               -0.000377    -0.000125          0.000815 -0.000235   \n",
       "value_std                  -0.000197    -0.000042          0.001003 -0.000524   \n",
       "review_answer              -0.000015    -0.000106         -0.001443  0.000198   \n",
       "review_count               -0.000120    -0.000022          0.000363 -0.000180   \n",
       "\n",
       "                      satisfied  \n",
       "order_products_value  -0.003607  \n",
       "order_freight_value    0.002758  \n",
       "review_score           0.001560  \n",
       "installments           0.000286  \n",
       "value_std             -0.000332  \n",
       "review_answer          0.000477  \n",
       "review_count           0.000113  "
      ]
     },
     "execution_count": 45,
     "metadata": {},
     "output_type": "execute_result"
    },
    {
     "data": {
      "image/png": "[encoded data removed]",
      "text/plain": [
       "<Figure size 370.286x288 with 1 Axes>"
      ]
     },
     "metadata": {
      "needs_background": "light"
     },
     "output_type": "display_data"
    }
   ],
   "source": [
    "# df_coef[df_coef.index.str.contains('review_|installments|sequential|value')].transpose().boxplot(figsize=(8, 4), rot=20)\n",
    "plt.matshow(df_coef[df_coef.index.str.contains('review_|installments|sequential|value')])\n",
    "df_coef[df_coef.index.str.contains('review_|installments|sequential|value')]"
   ]
  },
  {
   "cell_type": "markdown",
   "metadata": {},
   "source": [
    "The *review* features that are not the text itself and the other *payment* features are not a good indicators for the classifier. Besides that, we found that higher `products_value` correlates positively with **not as anounced** and negatively with **other_delivery** and **partial_delivery**."
   ]
  },
  {
   "cell_type": "code",
   "execution_count": 46,
   "metadata": {},
   "outputs": [
    {
     "data": {
      "text/html": [
       "<div>\n",
       "<style scoped>\n",
       "    .dataframe tbody tr th:only-of-type {\n",
       "        vertical-align: middle;\n",
       "    }\n",
       "\n",
       "    .dataframe tbody tr th {\n",
       "        vertical-align: top;\n",
       "    }\n",
       "\n",
       "    .dataframe thead th {\n",
       "        text-align: right;\n",
       "    }\n",
       "</style>\n",
       "<table border=\"1\" class=\"dataframe\">\n",
       "  <thead>\n",
       "    <tr style=\"text-align: right;\">\n",
       "      <th></th>\n",
       "      <th>before_estimate</th>\n",
       "      <th>delayed</th>\n",
       "      <th>low_quality</th>\n",
       "      <th>not_as_anounced</th>\n",
       "      <th>other_delivery</th>\n",
       "      <th>other_order</th>\n",
       "      <th>partial_delivery</th>\n",
       "      <th>return</th>\n",
       "      <th>satisfied</th>\n",
       "    </tr>\n",
       "  </thead>\n",
       "  <tbody>\n",
       "    <tr>\n",
       "      <th>populacao</th>\n",
       "      <td>-0.000426</td>\n",
       "      <td>-0.089821</td>\n",
       "      <td>0.300045</td>\n",
       "      <td>0.375883</td>\n",
       "      <td>0.873386</td>\n",
       "      <td>-0.065688</td>\n",
       "      <td>1.034204</td>\n",
       "      <td>-0.805319</td>\n",
       "      <td>-0.400065</td>\n",
       "    </tr>\n",
       "    <tr>\n",
       "      <th>area_km2</th>\n",
       "      <td>-0.395149</td>\n",
       "      <td>-1.143295</td>\n",
       "      <td>0.380096</td>\n",
       "      <td>0.373425</td>\n",
       "      <td>0.208313</td>\n",
       "      <td>-0.291811</td>\n",
       "      <td>1.928968</td>\n",
       "      <td>-0.158306</td>\n",
       "      <td>-0.461053</td>\n",
       "    </tr>\n",
       "    <tr>\n",
       "      <th>density</th>\n",
       "      <td>0.000145</td>\n",
       "      <td>0.000028</td>\n",
       "      <td>0.000062</td>\n",
       "      <td>-0.000043</td>\n",
       "      <td>-0.000118</td>\n",
       "      <td>-0.000020</td>\n",
       "      <td>-0.000251</td>\n",
       "      <td>0.000144</td>\n",
       "      <td>-0.000124</td>\n",
       "    </tr>\n",
       "  </tbody>\n",
       "</table>\n",
       "</div>"
      ],
      "text/plain": [
       "           before_estimate   delayed  low_quality  not_as_anounced  \\\n",
       "populacao        -0.000426 -0.089821     0.300045         0.375883   \n",
       "area_km2         -0.395149 -1.143295     0.380096         0.373425   \n",
       "density           0.000145  0.000028     0.000062        -0.000043   \n",
       "\n",
       "           other_delivery  other_order  partial_delivery    return  satisfied  \n",
       "populacao        0.873386    -0.065688          1.034204 -0.805319  -0.400065  \n",
       "area_km2         0.208313    -0.291811          1.928968 -0.158306  -0.461053  \n",
       "density         -0.000118    -0.000020         -0.000251  0.000144  -0.000124  "
      ]
     },
     "execution_count": 46,
     "metadata": {},
     "output_type": "execute_result"
    },
    {
     "data": {
      "image/png": "[encoded data removed]",
      "text/plain": [
       "<Figure size 864x288 with 1 Axes>"
      ]
     },
     "metadata": {
      "needs_background": "light"
     },
     "output_type": "display_data"
    }
   ],
   "source": [
    "plt.matshow(df_coef[df_coef.index.str.contains('populacao|area_km2|density')])\n",
    "df_coef[df_coef.index.str.contains('populacao|area_km2|density')]"
   ]
  },
  {
   "cell_type": "markdown",
   "metadata": {},
   "source": [
    "The feature `populacao` is an indicator that the review is not from the **return** class, while `area_km2` is an indicator of **partial_delivery** and not an indicator of **delay**. The populational `density` does not helps classifying the data."
   ]
  },
  {
   "cell_type": "code",
   "execution_count": 47,
   "metadata": {},
   "outputs": [
    {
     "data": {
      "text/html": [
       "<div>\n",
       "<style scoped>\n",
       "    .dataframe tbody tr th:only-of-type {\n",
       "        vertical-align: middle;\n",
       "    }\n",
       "\n",
       "    .dataframe tbody tr th {\n",
       "        vertical-align: top;\n",
       "    }\n",
       "\n",
       "    .dataframe thead th {\n",
       "        text-align: right;\n",
       "    }\n",
       "</style>\n",
       "<table border=\"1\" class=\"dataframe\">\n",
       "  <thead>\n",
       "    <tr style=\"text-align: right;\">\n",
       "      <th></th>\n",
       "      <th>before_estimate</th>\n",
       "      <th>delayed</th>\n",
       "      <th>low_quality</th>\n",
       "      <th>not_as_anounced</th>\n",
       "      <th>other_delivery</th>\n",
       "      <th>other_order</th>\n",
       "      <th>partial_delivery</th>\n",
       "      <th>return</th>\n",
       "      <th>satisfied</th>\n",
       "    </tr>\n",
       "  </thead>\n",
       "  <tbody>\n",
       "    <tr>\n",
       "      <th>purchase_approved</th>\n",
       "      <td>0.000028</td>\n",
       "      <td>-0.000011</td>\n",
       "      <td>-0.000037</td>\n",
       "      <td>0.000059</td>\n",
       "      <td>-0.000104</td>\n",
       "      <td>-5.779725e-07</td>\n",
       "      <td>-7.294964e-08</td>\n",
       "      <td>0.000046</td>\n",
       "      <td>0.000003</td>\n",
       "    </tr>\n",
       "    <tr>\n",
       "      <th>purchase_delivered</th>\n",
       "      <td>-0.001626</td>\n",
       "      <td>0.006620</td>\n",
       "      <td>-0.000862</td>\n",
       "      <td>-0.001186</td>\n",
       "      <td>-0.001318</td>\n",
       "      <td>-4.949181e-04</td>\n",
       "      <td>-4.830368e-03</td>\n",
       "      <td>-0.000717</td>\n",
       "      <td>-0.000330</td>\n",
       "    </tr>\n",
       "    <tr>\n",
       "      <th>purchase_estimated</th>\n",
       "      <td>-0.001446</td>\n",
       "      <td>0.001073</td>\n",
       "      <td>-0.000443</td>\n",
       "      <td>-0.001569</td>\n",
       "      <td>-0.001601</td>\n",
       "      <td>-5.456646e-04</td>\n",
       "      <td>-1.093711e-04</td>\n",
       "      <td>-0.000221</td>\n",
       "      <td>0.002758</td>\n",
       "    </tr>\n",
       "    <tr>\n",
       "      <th>approved_estimated</th>\n",
       "      <td>-0.001477</td>\n",
       "      <td>0.001073</td>\n",
       "      <td>-0.000451</td>\n",
       "      <td>-0.001686</td>\n",
       "      <td>-0.001474</td>\n",
       "      <td>-5.401326e-04</td>\n",
       "      <td>-7.877365e-05</td>\n",
       "      <td>-0.000264</td>\n",
       "      <td>0.002782</td>\n",
       "    </tr>\n",
       "    <tr>\n",
       "      <th>approved_delivered</th>\n",
       "      <td>-0.001670</td>\n",
       "      <td>0.006625</td>\n",
       "      <td>-0.000845</td>\n",
       "      <td>-0.001306</td>\n",
       "      <td>-0.001232</td>\n",
       "      <td>-4.907428e-04</td>\n",
       "      <td>-4.820636e-03</td>\n",
       "      <td>-0.000737</td>\n",
       "      <td>-0.000293</td>\n",
       "    </tr>\n",
       "    <tr>\n",
       "      <th>estimated_delivered</th>\n",
       "      <td>-0.000161</td>\n",
       "      <td>0.005535</td>\n",
       "      <td>-0.000430</td>\n",
       "      <td>0.000425</td>\n",
       "      <td>0.000334</td>\n",
       "      <td>4.071537e-05</td>\n",
       "      <td>-4.699231e-03</td>\n",
       "      <td>-0.000518</td>\n",
       "      <td>-0.003111</td>\n",
       "    </tr>\n",
       "    <tr>\n",
       "      <th>review_answer</th>\n",
       "      <td>-0.000214</td>\n",
       "      <td>0.000147</td>\n",
       "      <td>0.000145</td>\n",
       "      <td>-0.003513</td>\n",
       "      <td>-0.000015</td>\n",
       "      <td>-1.060768e-04</td>\n",
       "      <td>-1.443077e-03</td>\n",
       "      <td>0.000198</td>\n",
       "      <td>0.000477</td>\n",
       "    </tr>\n",
       "    <tr>\n",
       "      <th>purchase_review</th>\n",
       "      <td>-0.001561</td>\n",
       "      <td>0.004822</td>\n",
       "      <td>-0.001031</td>\n",
       "      <td>-0.000139</td>\n",
       "      <td>-0.001574</td>\n",
       "      <td>-4.380828e-04</td>\n",
       "      <td>-3.088484e-03</td>\n",
       "      <td>-0.000526</td>\n",
       "      <td>0.000598</td>\n",
       "    </tr>\n",
       "  </tbody>\n",
       "</table>\n",
       "</div>"
      ],
      "text/plain": [
       "                     before_estimate   delayed  low_quality  not_as_anounced  \\\n",
       "purchase_approved           0.000028 -0.000011    -0.000037         0.000059   \n",
       "purchase_delivered         -0.001626  0.006620    -0.000862        -0.001186   \n",
       "purchase_estimated         -0.001446  0.001073    -0.000443        -0.001569   \n",
       "approved_estimated         -0.001477  0.001073    -0.000451        -0.001686   \n",
       "approved_delivered         -0.001670  0.006625    -0.000845        -0.001306   \n",
       "estimated_delivered        -0.000161  0.005535    -0.000430         0.000425   \n",
       "review_answer              -0.000214  0.000147     0.000145        -0.003513   \n",
       "purchase_review            -0.001561  0.004822    -0.001031        -0.000139   \n",
       "\n",
       "                     other_delivery   other_order  partial_delivery    return  \\\n",
       "purchase_approved         -0.000104 -5.779725e-07     -7.294964e-08  0.000046   \n",
       "purchase_delivered        -0.001318 -4.949181e-04     -4.830368e-03 -0.000717   \n",
       "purchase_estimated        -0.001601 -5.456646e-04     -1.093711e-04 -0.000221   \n",
       "approved_estimated        -0.001474 -5.401326e-04     -7.877365e-05 -0.000264   \n",
       "approved_delivered        -0.001232 -4.907428e-04     -4.820636e-03 -0.000737   \n",
       "estimated_delivered        0.000334  4.071537e-05     -4.699231e-03 -0.000518   \n",
       "review_answer             -0.000015 -1.060768e-04     -1.443077e-03  0.000198   \n",
       "purchase_review           -0.001574 -4.380828e-04     -3.088484e-03 -0.000526   \n",
       "\n",
       "                     satisfied  \n",
       "purchase_approved     0.000003  \n",
       "purchase_delivered   -0.000330  \n",
       "purchase_estimated    0.002758  \n",
       "approved_estimated    0.002782  \n",
       "approved_delivered   -0.000293  \n",
       "estimated_delivered  -0.003111  \n",
       "review_answer         0.000477  \n",
       "purchase_review       0.000598  "
      ]
     },
     "execution_count": 47,
     "metadata": {},
     "output_type": "execute_result"
    },
    {
     "data": {
      "image/png": "[encoded data removed]",
      "text/plain": [
       "<Figure size 324x288 with 1 Axes>"
      ]
     },
     "metadata": {
      "needs_background": "light"
     },
     "output_type": "display_data"
    }
   ],
   "source": [
    "time_features_regex = 'purchase_approved|purchase_delivered|purchase_estimated|approved_estimated|approved_delivered|review_answer|purchase_review|estimated_delivered'\n",
    "plt.matshow(df_coef[df_coef.index.str.contains(time_features_regex)])\n",
    "df_coef[df_coef.index.str.contains(time_features_regex)]"
   ]
  },
  {
   "cell_type": "markdown",
   "metadata": {},
   "source": [
    "Although we can see a correlation between the **delayed** feature and long *delivery time* (yellow squares), these features weights are low and are not good predictors of **delay**. This means that a purchase might have been delayed but the customer not necessarily complains about it."
   ]
  },
  {
   "cell_type": "code",
   "execution_count": 48,
   "metadata": {},
   "outputs": [
    {
     "data": {
      "text/html": [
       "<div>\n",
       "<style scoped>\n",
       "    .dataframe tbody tr th:only-of-type {\n",
       "        vertical-align: middle;\n",
       "    }\n",
       "\n",
       "    .dataframe tbody tr th {\n",
       "        vertical-align: top;\n",
       "    }\n",
       "\n",
       "    .dataframe thead th {\n",
       "        text-align: right;\n",
       "    }\n",
       "</style>\n",
       "<table border=\"1\" class=\"dataframe\">\n",
       "  <thead>\n",
       "    <tr style=\"text-align: right;\">\n",
       "      <th></th>\n",
       "      <th>before_estimate</th>\n",
       "      <th>delayed</th>\n",
       "      <th>low_quality</th>\n",
       "      <th>not_as_anounced</th>\n",
       "      <th>other_delivery</th>\n",
       "      <th>other_order</th>\n",
       "      <th>partial_delivery</th>\n",
       "      <th>return</th>\n",
       "      <th>satisfied</th>\n",
       "    </tr>\n",
       "  </thead>\n",
       "  <tbody>\n",
       "    <tr>\n",
       "      <th>mean_repeated_words</th>\n",
       "      <td>0.000073</td>\n",
       "      <td>-0.000102</td>\n",
       "      <td>0.000028</td>\n",
       "      <td>-0.000522</td>\n",
       "      <td>-0.000186</td>\n",
       "      <td>-0.000033</td>\n",
       "      <td>0.002043</td>\n",
       "      <td>-0.000431</td>\n",
       "      <td>-0.000646</td>\n",
       "    </tr>\n",
       "    <tr>\n",
       "      <th>mean_token_length</th>\n",
       "      <td>-0.000284</td>\n",
       "      <td>0.000086</td>\n",
       "      <td>0.000058</td>\n",
       "      <td>-0.000391</td>\n",
       "      <td>-0.000507</td>\n",
       "      <td>-0.000140</td>\n",
       "      <td>-0.000170</td>\n",
       "      <td>-0.000141</td>\n",
       "      <td>0.000708</td>\n",
       "    </tr>\n",
       "    <tr>\n",
       "      <th>mean_unique_tokens</th>\n",
       "      <td>-0.000087</td>\n",
       "      <td>0.000944</td>\n",
       "      <td>0.000763</td>\n",
       "      <td>0.002108</td>\n",
       "      <td>0.000419</td>\n",
       "      <td>-0.000145</td>\n",
       "      <td>0.000041</td>\n",
       "      <td>0.001157</td>\n",
       "      <td>-0.001224</td>\n",
       "    </tr>\n",
       "  </tbody>\n",
       "</table>\n",
       "</div>"
      ],
      "text/plain": [
       "                     before_estimate   delayed  low_quality  not_as_anounced  \\\n",
       "mean_repeated_words         0.000073 -0.000102     0.000028        -0.000522   \n",
       "mean_token_length          -0.000284  0.000086     0.000058        -0.000391   \n",
       "mean_unique_tokens         -0.000087  0.000944     0.000763         0.002108   \n",
       "\n",
       "                     other_delivery  other_order  partial_delivery    return  \\\n",
       "mean_repeated_words       -0.000186    -0.000033          0.002043 -0.000431   \n",
       "mean_token_length         -0.000507    -0.000140         -0.000170 -0.000141   \n",
       "mean_unique_tokens         0.000419    -0.000145          0.000041  0.001157   \n",
       "\n",
       "                     satisfied  \n",
       "mean_repeated_words  -0.000646  \n",
       "mean_token_length     0.000708  \n",
       "mean_unique_tokens   -0.001224  "
      ]
     },
     "execution_count": 48,
     "metadata": {},
     "output_type": "execute_result"
    },
    {
     "data": {
      "image/png": "[encoded data removed]",
      "text/plain": [
       "<Figure size 864x288 with 1 Axes>"
      ]
     },
     "metadata": {
      "needs_background": "light"
     },
     "output_type": "display_data"
    }
   ],
   "source": [
    "plt.matshow(df_coef[df_coef.index.str.contains('mean_unique_tokens|mean_token_length|mean_repeated_words')])\n",
    "df_coef[df_coef.index.str.contains('mean_unique_tokens|mean_token_length|mean_repeated_words')]"
   ]
  },
  {
   "cell_type": "markdown",
   "metadata": {},
   "source": [
    "For the textual features that we created, we see that the number of *unique words per review* is not a good indicator for **satisfied**, which makes sense because a customer is more likely to complain about a product than to complement. The fact that **not as anounced** has a positive weight in this feature further enforces this hypothesis.\n",
    "\n",
    "One interesting point is that using many *repeated words* is an indicator of **partial_delivery**. Again these weights are not big so we can discard them."
   ]
  },
  {
   "cell_type": "code",
   "execution_count": 49,
   "metadata": {},
   "outputs": [
    {
     "data": {
      "text/html": [
       "<div>\n",
       "<style scoped>\n",
       "    .dataframe tbody tr th:only-of-type {\n",
       "        vertical-align: middle;\n",
       "    }\n",
       "\n",
       "    .dataframe tbody tr th {\n",
       "        vertical-align: top;\n",
       "    }\n",
       "\n",
       "    .dataframe thead th {\n",
       "        text-align: right;\n",
       "    }\n",
       "</style>\n",
       "<table border=\"1\" class=\"dataframe\">\n",
       "  <thead>\n",
       "    <tr style=\"text-align: right;\">\n",
       "      <th></th>\n",
       "      <th>longo</th>\n",
       "      <th>correto</th>\n",
       "      <th>site</th>\n",
       "      <th>comprei</th>\n",
       "      <th>comprado</th>\n",
       "      <th>falta</th>\n",
       "      <th>faltou</th>\n",
       "      <th>apenas</th>\n",
       "      <th>frete</th>\n",
       "      <th>original</th>\n",
       "      <th>diferentes</th>\n",
       "      <th>correios</th>\n",
       "      <th>tipo</th>\n",
       "      <th>enviaram</th>\n",
       "      <th>errada</th>\n",
       "      <th>antes</th>\n",
       "      <th>cor</th>\n",
       "      <th>errado</th>\n",
       "      <th>foto</th>\n",
       "      <th>diferente</th>\n",
       "    </tr>\n",
       "  </thead>\n",
       "  <tbody>\n",
       "    <tr>\n",
       "      <th>before_estimate</th>\n",
       "      <td>-0.531844</td>\n",
       "      <td>0.693350</td>\n",
       "      <td>0.977006</td>\n",
       "      <td>-0.287684</td>\n",
       "      <td>0.384910</td>\n",
       "      <td>-0.370675</td>\n",
       "      <td>-0.570772</td>\n",
       "      <td>-1.468863</td>\n",
       "      <td>-0.302474</td>\n",
       "      <td>-0.254635</td>\n",
       "      <td>-0.151785</td>\n",
       "      <td>-0.111824</td>\n",
       "      <td>-0.125085</td>\n",
       "      <td>-0.886503</td>\n",
       "      <td>-0.354076</td>\n",
       "      <td>17.120957</td>\n",
       "      <td>-0.464805</td>\n",
       "      <td>-0.989724</td>\n",
       "      <td>-0.183301</td>\n",
       "      <td>-0.714747</td>\n",
       "    </tr>\n",
       "    <tr>\n",
       "      <th>delayed</th>\n",
       "      <td>2.395100</td>\n",
       "      <td>-1.109109</td>\n",
       "      <td>1.868752</td>\n",
       "      <td>0.708163</td>\n",
       "      <td>-0.038686</td>\n",
       "      <td>-2.464342</td>\n",
       "      <td>-1.290190</td>\n",
       "      <td>-3.721714</td>\n",
       "      <td>-1.564184</td>\n",
       "      <td>-2.172315</td>\n",
       "      <td>-0.382048</td>\n",
       "      <td>-2.638575</td>\n",
       "      <td>-0.269809</td>\n",
       "      <td>-1.115156</td>\n",
       "      <td>0.249302</td>\n",
       "      <td>-3.194434</td>\n",
       "      <td>-0.894159</td>\n",
       "      <td>-0.645253</td>\n",
       "      <td>-1.378277</td>\n",
       "      <td>-1.254988</td>\n",
       "    </tr>\n",
       "    <tr>\n",
       "      <th>low_quality</th>\n",
       "      <td>-0.441721</td>\n",
       "      <td>-0.816493</td>\n",
       "      <td>0.732034</td>\n",
       "      <td>0.351645</td>\n",
       "      <td>0.658962</td>\n",
       "      <td>-1.073346</td>\n",
       "      <td>0.475299</td>\n",
       "      <td>-0.870822</td>\n",
       "      <td>-1.117678</td>\n",
       "      <td>4.626206</td>\n",
       "      <td>0.031973</td>\n",
       "      <td>-1.353445</td>\n",
       "      <td>-1.425400</td>\n",
       "      <td>-0.257318</td>\n",
       "      <td>0.660174</td>\n",
       "      <td>-1.229952</td>\n",
       "      <td>-1.460190</td>\n",
       "      <td>-0.383489</td>\n",
       "      <td>-0.112965</td>\n",
       "      <td>-1.102708</td>\n",
       "    </tr>\n",
       "    <tr>\n",
       "      <th>not_as_anounced</th>\n",
       "      <td>7.579037</td>\n",
       "      <td>9.605117</td>\n",
       "      <td>10.018404</td>\n",
       "      <td>10.144747</td>\n",
       "      <td>10.210354</td>\n",
       "      <td>-1.759662</td>\n",
       "      <td>-1.953419</td>\n",
       "      <td>-0.861013</td>\n",
       "      <td>-1.640920</td>\n",
       "      <td>13.000206</td>\n",
       "      <td>13.029049</td>\n",
       "      <td>-3.615375</td>\n",
       "      <td>14.455112</td>\n",
       "      <td>14.979812</td>\n",
       "      <td>16.106029</td>\n",
       "      <td>-4.720290</td>\n",
       "      <td>19.028831</td>\n",
       "      <td>20.844655</td>\n",
       "      <td>25.837643</td>\n",
       "      <td>26.195885</td>\n",
       "    </tr>\n",
       "    <tr>\n",
       "      <th>other_delivery</th>\n",
       "      <td>9.271780</td>\n",
       "      <td>-0.192453</td>\n",
       "      <td>-1.480316</td>\n",
       "      <td>-2.765754</td>\n",
       "      <td>-0.951080</td>\n",
       "      <td>0.520151</td>\n",
       "      <td>2.015161</td>\n",
       "      <td>-2.066803</td>\n",
       "      <td>12.592219</td>\n",
       "      <td>-1.523821</td>\n",
       "      <td>-0.204635</td>\n",
       "      <td>13.499945</td>\n",
       "      <td>0.543743</td>\n",
       "      <td>-0.226927</td>\n",
       "      <td>-0.313196</td>\n",
       "      <td>-0.680106</td>\n",
       "      <td>-0.354429</td>\n",
       "      <td>-0.305347</td>\n",
       "      <td>-1.642785</td>\n",
       "      <td>-1.953506</td>\n",
       "    </tr>\n",
       "    <tr>\n",
       "      <th>other_order</th>\n",
       "      <td>-0.448027</td>\n",
       "      <td>-0.140432</td>\n",
       "      <td>-0.220688</td>\n",
       "      <td>-1.000078</td>\n",
       "      <td>-0.077140</td>\n",
       "      <td>0.618534</td>\n",
       "      <td>-0.054329</td>\n",
       "      <td>-0.364452</td>\n",
       "      <td>-0.431692</td>\n",
       "      <td>-0.194248</td>\n",
       "      <td>-0.022281</td>\n",
       "      <td>0.155539</td>\n",
       "      <td>-0.046744</td>\n",
       "      <td>1.616968</td>\n",
       "      <td>-0.041330</td>\n",
       "      <td>-0.396205</td>\n",
       "      <td>-0.043193</td>\n",
       "      <td>-0.239820</td>\n",
       "      <td>-0.114588</td>\n",
       "      <td>-0.082686</td>\n",
       "    </tr>\n",
       "    <tr>\n",
       "      <th>partial_delivery</th>\n",
       "      <td>-0.963389</td>\n",
       "      <td>-0.189811</td>\n",
       "      <td>-2.603806</td>\n",
       "      <td>5.235015</td>\n",
       "      <td>-0.454151</td>\n",
       "      <td>10.270381</td>\n",
       "      <td>10.802888</td>\n",
       "      <td>11.567768</td>\n",
       "      <td>-1.113933</td>\n",
       "      <td>-0.742937</td>\n",
       "      <td>2.132036</td>\n",
       "      <td>-3.856777</td>\n",
       "      <td>-0.106718</td>\n",
       "      <td>-1.687921</td>\n",
       "      <td>-1.926908</td>\n",
       "      <td>-4.276458</td>\n",
       "      <td>-2.974580</td>\n",
       "      <td>-2.930919</td>\n",
       "      <td>-1.452986</td>\n",
       "      <td>-2.439870</td>\n",
       "    </tr>\n",
       "    <tr>\n",
       "      <th>return</th>\n",
       "      <td>-0.351881</td>\n",
       "      <td>-1.311961</td>\n",
       "      <td>-1.740047</td>\n",
       "      <td>0.498244</td>\n",
       "      <td>2.573625</td>\n",
       "      <td>2.180161</td>\n",
       "      <td>-3.821964</td>\n",
       "      <td>-1.794343</td>\n",
       "      <td>-0.184868</td>\n",
       "      <td>-2.309741</td>\n",
       "      <td>-1.210472</td>\n",
       "      <td>-1.816845</td>\n",
       "      <td>-0.097076</td>\n",
       "      <td>1.766252</td>\n",
       "      <td>4.214774</td>\n",
       "      <td>-1.166534</td>\n",
       "      <td>-0.018417</td>\n",
       "      <td>1.889760</td>\n",
       "      <td>-3.889205</td>\n",
       "      <td>-1.106455</td>\n",
       "    </tr>\n",
       "    <tr>\n",
       "      <th>satisfied</th>\n",
       "      <td>-4.072541</td>\n",
       "      <td>1.483004</td>\n",
       "      <td>-2.244564</td>\n",
       "      <td>-5.681542</td>\n",
       "      <td>-0.946678</td>\n",
       "      <td>-2.626406</td>\n",
       "      <td>-3.608470</td>\n",
       "      <td>-2.383890</td>\n",
       "      <td>-3.210186</td>\n",
       "      <td>-0.977236</td>\n",
       "      <td>-0.602147</td>\n",
       "      <td>-2.868730</td>\n",
       "      <td>-0.797912</td>\n",
       "      <td>-1.842540</td>\n",
       "      <td>-2.542122</td>\n",
       "      <td>-16.085683</td>\n",
       "      <td>-2.167031</td>\n",
       "      <td>-2.642233</td>\n",
       "      <td>-2.826040</td>\n",
       "      <td>-1.559512</td>\n",
       "    </tr>\n",
       "  </tbody>\n",
       "</table>\n",
       "</div>"
      ],
      "text/plain": [
       "                     longo   correto       site    comprei   comprado  \\\n",
       "before_estimate  -0.531844  0.693350   0.977006  -0.287684   0.384910   \n",
       "delayed           2.395100 -1.109109   1.868752   0.708163  -0.038686   \n",
       "low_quality      -0.441721 -0.816493   0.732034   0.351645   0.658962   \n",
       "not_as_anounced   7.579037  9.605117  10.018404  10.144747  10.210354   \n",
       "other_delivery    9.271780 -0.192453  -1.480316  -2.765754  -0.951080   \n",
       "other_order      -0.448027 -0.140432  -0.220688  -1.000078  -0.077140   \n",
       "partial_delivery -0.963389 -0.189811  -2.603806   5.235015  -0.454151   \n",
       "return           -0.351881 -1.311961  -1.740047   0.498244   2.573625   \n",
       "satisfied        -4.072541  1.483004  -2.244564  -5.681542  -0.946678   \n",
       "\n",
       "                      falta     faltou     apenas      frete   original  \\\n",
       "before_estimate   -0.370675  -0.570772  -1.468863  -0.302474  -0.254635   \n",
       "delayed           -2.464342  -1.290190  -3.721714  -1.564184  -2.172315   \n",
       "low_quality       -1.073346   0.475299  -0.870822  -1.117678   4.626206   \n",
       "not_as_anounced   -1.759662  -1.953419  -0.861013  -1.640920  13.000206   \n",
       "other_delivery     0.520151   2.015161  -2.066803  12.592219  -1.523821   \n",
       "other_order        0.618534  -0.054329  -0.364452  -0.431692  -0.194248   \n",
       "partial_delivery  10.270381  10.802888  11.567768  -1.113933  -0.742937   \n",
       "return             2.180161  -3.821964  -1.794343  -0.184868  -2.309741   \n",
       "satisfied         -2.626406  -3.608470  -2.383890  -3.210186  -0.977236   \n",
       "\n",
       "                  diferentes   correios       tipo   enviaram     errada  \\\n",
       "before_estimate    -0.151785  -0.111824  -0.125085  -0.886503  -0.354076   \n",
       "delayed            -0.382048  -2.638575  -0.269809  -1.115156   0.249302   \n",
       "low_quality         0.031973  -1.353445  -1.425400  -0.257318   0.660174   \n",
       "not_as_anounced    13.029049  -3.615375  14.455112  14.979812  16.106029   \n",
       "other_delivery     -0.204635  13.499945   0.543743  -0.226927  -0.313196   \n",
       "other_order        -0.022281   0.155539  -0.046744   1.616968  -0.041330   \n",
       "partial_delivery    2.132036  -3.856777  -0.106718  -1.687921  -1.926908   \n",
       "return             -1.210472  -1.816845  -0.097076   1.766252   4.214774   \n",
       "satisfied          -0.602147  -2.868730  -0.797912  -1.842540  -2.542122   \n",
       "\n",
       "                      antes        cor     errado       foto  diferente  \n",
       "before_estimate   17.120957  -0.464805  -0.989724  -0.183301  -0.714747  \n",
       "delayed           -3.194434  -0.894159  -0.645253  -1.378277  -1.254988  \n",
       "low_quality       -1.229952  -1.460190  -0.383489  -0.112965  -1.102708  \n",
       "not_as_anounced   -4.720290  19.028831  20.844655  25.837643  26.195885  \n",
       "other_delivery    -0.680106  -0.354429  -0.305347  -1.642785  -1.953506  \n",
       "other_order       -0.396205  -0.043193  -0.239820  -0.114588  -0.082686  \n",
       "partial_delivery  -4.276458  -2.974580  -2.930919  -1.452986  -2.439870  \n",
       "return            -1.166534  -0.018417   1.889760  -3.889205  -1.106455  \n",
       "satisfied        -16.085683  -2.167031  -2.642233  -2.826040  -1.559512  "
      ]
     },
     "execution_count": 49,
     "metadata": {},
     "output_type": "execute_result"
    },
    {
     "data": {
      "image/png": "[encoded data removed]",
      "text/plain": [
       "<Figure size 640x288 with 1 Axes>"
      ]
     },
     "metadata": {
      "needs_background": "light"
     },
     "output_type": "display_data"
    }
   ],
   "source": [
    "df_positive_words = df_coef.loc[df_coef.loc[words].max(axis=1).sort_values().tail(20).index].transpose()\n",
    "plt.matshow(df_positive_words)\n",
    "df_positive_words"
   ]
  },
  {
   "cell_type": "markdown",
   "metadata": {},
   "source": [
    "The majority of hight weights belongs to **not as anounced**, this can be explained by the fact that the dataset is not well balanced and we did not treated that, so these words try to compensate the few datapoints. Besides that, some words makes perfect sense to be assigned to this class, words like *foto, diferente, errado* are a good indicator of a disapointment.\n",
    "\n",
    "From the words that we've got, we see that words like *falta, faltou, apenas* are associated with **partial delivery**. "
   ]
  },
  {
   "cell_type": "code",
   "execution_count": 50,
   "metadata": {},
   "outputs": [
    {
     "data": {
      "text/html": [
       "<div>\n",
       "<style scoped>\n",
       "    .dataframe tbody tr th:only-of-type {\n",
       "        vertical-align: middle;\n",
       "    }\n",
       "\n",
       "    .dataframe tbody tr th {\n",
       "        vertical-align: top;\n",
       "    }\n",
       "\n",
       "    .dataframe thead th {\n",
       "        text-align: right;\n",
       "    }\n",
       "</style>\n",
       "<table border=\"1\" class=\"dataframe\">\n",
       "  <thead>\n",
       "    <tr style=\"text-align: right;\">\n",
       "      <th></th>\n",
       "      <th>antes</th>\n",
       "      <th>corretamente</th>\n",
       "      <th>04</th>\n",
       "      <th>qualidade</th>\n",
       "      <th>defeito</th>\n",
       "      <th>solicitei</th>\n",
       "      <th>celular</th>\n",
       "      <th>bom</th>\n",
       "      <th>cortinas</th>\n",
       "      <th>junto</th>\n",
       "      <th>prazo</th>\n",
       "      <th>fiscal</th>\n",
       "      <th>chegou</th>\n",
       "      <th>ja</th>\n",
       "      <th>nao</th>\n",
       "      <th>ainda</th>\n",
       "      <th>jogo</th>\n",
       "      <th>comprei</th>\n",
       "      <th>lojas</th>\n",
       "      <th>veio</th>\n",
       "    </tr>\n",
       "  </thead>\n",
       "  <tbody>\n",
       "    <tr>\n",
       "      <th>before_estimate</th>\n",
       "      <td>17.120957</td>\n",
       "      <td>0.930408</td>\n",
       "      <td>2.255021</td>\n",
       "      <td>-0.225030</td>\n",
       "      <td>-0.302766</td>\n",
       "      <td>-0.125212</td>\n",
       "      <td>-0.367916</td>\n",
       "      <td>-0.451690</td>\n",
       "      <td>-0.203045</td>\n",
       "      <td>-0.077121</td>\n",
       "      <td>2.145780</td>\n",
       "      <td>-0.356590</td>\n",
       "      <td>3.790131</td>\n",
       "      <td>-1.621026</td>\n",
       "      <td>-2.724716</td>\n",
       "      <td>0.709604</td>\n",
       "      <td>-0.200130</td>\n",
       "      <td>-0.287684</td>\n",
       "      <td>0.946557</td>\n",
       "      <td>1.394733</td>\n",
       "    </tr>\n",
       "    <tr>\n",
       "      <th>delayed</th>\n",
       "      <td>-3.194434</td>\n",
       "      <td>-0.259480</td>\n",
       "      <td>-0.584328</td>\n",
       "      <td>-2.387207</td>\n",
       "      <td>-1.039892</td>\n",
       "      <td>-1.642858</td>\n",
       "      <td>0.174315</td>\n",
       "      <td>-2.807061</td>\n",
       "      <td>-1.382892</td>\n",
       "      <td>0.440222</td>\n",
       "      <td>-1.172145</td>\n",
       "      <td>-0.321633</td>\n",
       "      <td>0.687545</td>\n",
       "      <td>2.355746</td>\n",
       "      <td>5.327757</td>\n",
       "      <td>3.695831</td>\n",
       "      <td>-1.359658</td>\n",
       "      <td>0.708163</td>\n",
       "      <td>0.249910</td>\n",
       "      <td>-2.912494</td>\n",
       "    </tr>\n",
       "    <tr>\n",
       "      <th>low_quality</th>\n",
       "      <td>-1.229952</td>\n",
       "      <td>0.363633</td>\n",
       "      <td>-0.538692</td>\n",
       "      <td>4.324823</td>\n",
       "      <td>-0.501319</td>\n",
       "      <td>-0.544137</td>\n",
       "      <td>3.218257</td>\n",
       "      <td>-1.212040</td>\n",
       "      <td>-0.616296</td>\n",
       "      <td>-1.408782</td>\n",
       "      <td>-2.134539</td>\n",
       "      <td>1.038956</td>\n",
       "      <td>-1.628758</td>\n",
       "      <td>0.889797</td>\n",
       "      <td>2.532728</td>\n",
       "      <td>-2.519703</td>\n",
       "      <td>-1.334662</td>\n",
       "      <td>0.351645</td>\n",
       "      <td>-0.568606</td>\n",
       "      <td>1.145080</td>\n",
       "    </tr>\n",
       "    <tr>\n",
       "      <th>not_as_anounced</th>\n",
       "      <td>-4.720290</td>\n",
       "      <td>-8.808723</td>\n",
       "      <td>-8.658685</td>\n",
       "      <td>-8.634833</td>\n",
       "      <td>-8.496750</td>\n",
       "      <td>-8.063524</td>\n",
       "      <td>-7.415858</td>\n",
       "      <td>-6.689343</td>\n",
       "      <td>-6.654314</td>\n",
       "      <td>-6.627537</td>\n",
       "      <td>-6.595561</td>\n",
       "      <td>-6.583894</td>\n",
       "      <td>-6.522694</td>\n",
       "      <td>-6.489153</td>\n",
       "      <td>7.304820</td>\n",
       "      <td>-6.167642</td>\n",
       "      <td>-5.862794</td>\n",
       "      <td>10.144747</td>\n",
       "      <td>-5.581577</td>\n",
       "      <td>6.348632</td>\n",
       "    </tr>\n",
       "    <tr>\n",
       "      <th>other_delivery</th>\n",
       "      <td>-0.680106</td>\n",
       "      <td>0.171322</td>\n",
       "      <td>2.506044</td>\n",
       "      <td>-2.888807</td>\n",
       "      <td>-0.641788</td>\n",
       "      <td>-0.250559</td>\n",
       "      <td>-0.045578</td>\n",
       "      <td>-1.803038</td>\n",
       "      <td>-0.065806</td>\n",
       "      <td>-1.396954</td>\n",
       "      <td>0.102324</td>\n",
       "      <td>-2.595782</td>\n",
       "      <td>-0.967242</td>\n",
       "      <td>-0.138422</td>\n",
       "      <td>2.883136</td>\n",
       "      <td>-4.573453</td>\n",
       "      <td>-0.300670</td>\n",
       "      <td>-2.765754</td>\n",
       "      <td>-0.854488</td>\n",
       "      <td>0.418743</td>\n",
       "    </tr>\n",
       "    <tr>\n",
       "      <th>other_order</th>\n",
       "      <td>-0.396205</td>\n",
       "      <td>-0.040548</td>\n",
       "      <td>-0.029176</td>\n",
       "      <td>-0.436661</td>\n",
       "      <td>-0.050071</td>\n",
       "      <td>-0.016983</td>\n",
       "      <td>-0.093532</td>\n",
       "      <td>-0.903653</td>\n",
       "      <td>-0.027556</td>\n",
       "      <td>0.797330</td>\n",
       "      <td>0.031618</td>\n",
       "      <td>1.525282</td>\n",
       "      <td>-1.913338</td>\n",
       "      <td>0.413613</td>\n",
       "      <td>2.154133</td>\n",
       "      <td>-0.587344</td>\n",
       "      <td>-0.013243</td>\n",
       "      <td>-1.000078</td>\n",
       "      <td>-0.088343</td>\n",
       "      <td>-0.687779</td>\n",
       "    </tr>\n",
       "    <tr>\n",
       "      <th>partial_delivery</th>\n",
       "      <td>-4.276458</td>\n",
       "      <td>-0.610730</td>\n",
       "      <td>-0.874321</td>\n",
       "      <td>-2.725718</td>\n",
       "      <td>-0.711724</td>\n",
       "      <td>-0.826983</td>\n",
       "      <td>-1.228267</td>\n",
       "      <td>-3.434011</td>\n",
       "      <td>4.933431</td>\n",
       "      <td>5.729249</td>\n",
       "      <td>-5.237037</td>\n",
       "      <td>4.172200</td>\n",
       "      <td>7.116658</td>\n",
       "      <td>1.197791</td>\n",
       "      <td>-0.809355</td>\n",
       "      <td>-0.160884</td>\n",
       "      <td>4.047185</td>\n",
       "      <td>5.235015</td>\n",
       "      <td>0.452426</td>\n",
       "      <td>1.424268</td>\n",
       "    </tr>\n",
       "    <tr>\n",
       "      <th>return</th>\n",
       "      <td>-1.166534</td>\n",
       "      <td>1.155213</td>\n",
       "      <td>3.866696</td>\n",
       "      <td>3.180449</td>\n",
       "      <td>7.859143</td>\n",
       "      <td>8.970632</td>\n",
       "      <td>1.117881</td>\n",
       "      <td>-3.607808</td>\n",
       "      <td>-0.481477</td>\n",
       "      <td>-1.141344</td>\n",
       "      <td>-1.751733</td>\n",
       "      <td>1.968794</td>\n",
       "      <td>-0.686191</td>\n",
       "      <td>2.993152</td>\n",
       "      <td>1.094804</td>\n",
       "      <td>0.128087</td>\n",
       "      <td>0.922554</td>\n",
       "      <td>0.498244</td>\n",
       "      <td>1.149875</td>\n",
       "      <td>7.011934</td>\n",
       "    </tr>\n",
       "    <tr>\n",
       "      <th>satisfied</th>\n",
       "      <td>-16.085683</td>\n",
       "      <td>-0.273455</td>\n",
       "      <td>-1.696953</td>\n",
       "      <td>-0.729518</td>\n",
       "      <td>-1.594722</td>\n",
       "      <td>-0.246986</td>\n",
       "      <td>-1.139632</td>\n",
       "      <td>3.485260</td>\n",
       "      <td>-1.327034</td>\n",
       "      <td>-0.370331</td>\n",
       "      <td>2.097291</td>\n",
       "      <td>-0.556368</td>\n",
       "      <td>-2.831341</td>\n",
       "      <td>-2.364208</td>\n",
       "      <td>-6.242540</td>\n",
       "      <td>-1.009233</td>\n",
       "      <td>-0.215812</td>\n",
       "      <td>-5.681542</td>\n",
       "      <td>0.859398</td>\n",
       "      <td>-5.429695</td>\n",
       "    </tr>\n",
       "  </tbody>\n",
       "</table>\n",
       "</div>"
      ],
      "text/plain": [
       "                      antes  corretamente        04  qualidade   defeito  \\\n",
       "before_estimate   17.120957      0.930408  2.255021  -0.225030 -0.302766   \n",
       "delayed           -3.194434     -0.259480 -0.584328  -2.387207 -1.039892   \n",
       "low_quality       -1.229952      0.363633 -0.538692   4.324823 -0.501319   \n",
       "not_as_anounced   -4.720290     -8.808723 -8.658685  -8.634833 -8.496750   \n",
       "other_delivery    -0.680106      0.171322  2.506044  -2.888807 -0.641788   \n",
       "other_order       -0.396205     -0.040548 -0.029176  -0.436661 -0.050071   \n",
       "partial_delivery  -4.276458     -0.610730 -0.874321  -2.725718 -0.711724   \n",
       "return            -1.166534      1.155213  3.866696   3.180449  7.859143   \n",
       "satisfied        -16.085683     -0.273455 -1.696953  -0.729518 -1.594722   \n",
       "\n",
       "                  solicitei   celular       bom  cortinas     junto     prazo  \\\n",
       "before_estimate   -0.125212 -0.367916 -0.451690 -0.203045 -0.077121  2.145780   \n",
       "delayed           -1.642858  0.174315 -2.807061 -1.382892  0.440222 -1.172145   \n",
       "low_quality       -0.544137  3.218257 -1.212040 -0.616296 -1.408782 -2.134539   \n",
       "not_as_anounced   -8.063524 -7.415858 -6.689343 -6.654314 -6.627537 -6.595561   \n",
       "other_delivery    -0.250559 -0.045578 -1.803038 -0.065806 -1.396954  0.102324   \n",
       "other_order       -0.016983 -0.093532 -0.903653 -0.027556  0.797330  0.031618   \n",
       "partial_delivery  -0.826983 -1.228267 -3.434011  4.933431  5.729249 -5.237037   \n",
       "return             8.970632  1.117881 -3.607808 -0.481477 -1.141344 -1.751733   \n",
       "satisfied         -0.246986 -1.139632  3.485260 -1.327034 -0.370331  2.097291   \n",
       "\n",
       "                    fiscal    chegou        ja       nao     ainda      jogo  \\\n",
       "before_estimate  -0.356590  3.790131 -1.621026 -2.724716  0.709604 -0.200130   \n",
       "delayed          -0.321633  0.687545  2.355746  5.327757  3.695831 -1.359658   \n",
       "low_quality       1.038956 -1.628758  0.889797  2.532728 -2.519703 -1.334662   \n",
       "not_as_anounced  -6.583894 -6.522694 -6.489153  7.304820 -6.167642 -5.862794   \n",
       "other_delivery   -2.595782 -0.967242 -0.138422  2.883136 -4.573453 -0.300670   \n",
       "other_order       1.525282 -1.913338  0.413613  2.154133 -0.587344 -0.013243   \n",
       "partial_delivery  4.172200  7.116658  1.197791 -0.809355 -0.160884  4.047185   \n",
       "return            1.968794 -0.686191  2.993152  1.094804  0.128087  0.922554   \n",
       "satisfied        -0.556368 -2.831341 -2.364208 -6.242540 -1.009233 -0.215812   \n",
       "\n",
       "                    comprei     lojas      veio  \n",
       "before_estimate   -0.287684  0.946557  1.394733  \n",
       "delayed            0.708163  0.249910 -2.912494  \n",
       "low_quality        0.351645 -0.568606  1.145080  \n",
       "not_as_anounced   10.144747 -5.581577  6.348632  \n",
       "other_delivery    -2.765754 -0.854488  0.418743  \n",
       "other_order       -1.000078 -0.088343 -0.687779  \n",
       "partial_delivery   5.235015  0.452426  1.424268  \n",
       "return             0.498244  1.149875  7.011934  \n",
       "satisfied         -5.681542  0.859398 -5.429695  "
      ]
     },
     "execution_count": 50,
     "metadata": {},
     "output_type": "execute_result"
    },
    {
     "data": {
      "image/png": "[encoded data removed]",
      "text/plain": [
       "<Figure size 640x288 with 1 Axes>"
      ]
     },
     "metadata": {
      "needs_background": "light"
     },
     "output_type": "display_data"
    }
   ],
   "source": [
    "df_negative_words = df_coef.loc[df_coef.loc[words].min(axis=1).sort_values().head(20).index].transpose()\n",
    "plt.matshow(df_negative_words)\n",
    "df_negative_words"
   ]
  },
  {
   "cell_type": "markdown",
   "metadata": {},
   "source": [
    "From the most negative words, we found once again the high bias towards **not as anounced**, but this time the weights tries to diferentiate this class from the others, for example, the words *qualidade* and *defeito* are more prone to be **return** than **not as anounced**."
   ]
  },
  {
   "cell_type": "markdown",
   "metadata": {},
   "source": [
    "### 6. Final Model\n",
    "\n",
    "With the acquired knowledge, we will train a new model and see if we can improve the performance."
   ]
  },
  {
   "cell_type": "code",
   "execution_count": 51,
   "metadata": {},
   "outputs": [],
   "source": [
    "# Creating training and test sets\n",
    "labels = [\n",
    "    'votes_before_estimate',\n",
    "    'votes_delayed',\n",
    "    'votes_low_quality',\n",
    "    'votes_return',\n",
    "    'votes_not_as_anounced',\n",
    "    'votes_partial_delivery',\n",
    "    'votes_other_delivery',\n",
    "    'votes_other_order',\n",
    "    'votes_satisfied'\n",
    "]\n",
    "keep_features = [\n",
    "    'order_status', \n",
    "    'customer_state',\n",
    "    'product_category_name',\n",
    "    'preffered_payment',\n",
    "    'populacao',\n",
    "    'area',\n",
    "]\n",
    "\n",
    "features = df_feat.columns[df_feat.columns.str.contains(\"|\".join(keep_features))].append(pd.Index(words))\n",
    "Y = df_feat[labels]\n",
    "X = df_feat[features]\n",
    "\n",
    "y, weights = zip(*Y.apply(calculate_label, axis=1, args=(Y.sum(),)))\n",
    "\n",
    "X_train, X_test, y_train, y_test, w_train, w_test = model_selection.train_test_split(X, y, weights, random_state=42)"
   ]
  },
  {
   "cell_type": "code",
   "execution_count": 52,
   "metadata": {},
   "outputs": [
    {
     "data": {
      "text/plain": [
       "LogisticRegressionCV(Cs=[0.7, 0.9, 1.0, 1.1, 1.3], class_weight=None, cv=None,\n",
       "           dual=False, fit_intercept=True, intercept_scaling=1.0,\n",
       "           max_iter=100, multi_class='ovr', n_jobs=1, penalty='l2',\n",
       "           random_state=None, refit=True, scoring=None, solver='lbfgs',\n",
       "           tol=0.0001, verbose=0)"
      ]
     },
     "execution_count": 52,
     "metadata": {},
     "output_type": "execute_result"
    }
   ],
   "source": [
    "model2 = linear_model.LogisticRegressionCV(Cs=[0.7, 0.9, 1.0, 1.1, 1.3])\n",
    "model2.fit(X_train, y_train, w_train)"
   ]
  },
  {
   "cell_type": "code",
   "execution_count": 53,
   "metadata": {},
   "outputs": [
    {
     "name": "stdout",
     "output_type": "stream",
     "text": [
      "Model Accuracy Train: 88.1 %\n",
      "Model Accuracy Test: 77.1 %\n",
      "Confusion matrix:\n"
     ]
    },
    {
     "data": {
      "text/html": [
       "<div>\n",
       "<style scoped>\n",
       "    .dataframe tbody tr th:only-of-type {\n",
       "        vertical-align: middle;\n",
       "    }\n",
       "\n",
       "    .dataframe tbody tr th {\n",
       "        vertical-align: top;\n",
       "    }\n",
       "\n",
       "    .dataframe thead th {\n",
       "        text-align: right;\n",
       "    }\n",
       "</style>\n",
       "<table border=\"1\" class=\"dataframe\">\n",
       "  <thead>\n",
       "    <tr style=\"text-align: right;\">\n",
       "      <th></th>\n",
       "      <th>before_estimate</th>\n",
       "      <th>delayed</th>\n",
       "      <th>low_quality</th>\n",
       "      <th>return</th>\n",
       "      <th>not_as_anounced</th>\n",
       "      <th>partial_delivery</th>\n",
       "      <th>other_delivery</th>\n",
       "      <th>other_order</th>\n",
       "      <th>satisfied</th>\n",
       "    </tr>\n",
       "  </thead>\n",
       "  <tbody>\n",
       "    <tr>\n",
       "      <th>before_estimate</th>\n",
       "      <td>77</td>\n",
       "      <td>3</td>\n",
       "      <td>2</td>\n",
       "      <td>0</td>\n",
       "      <td>0</td>\n",
       "      <td>0</td>\n",
       "      <td>1</td>\n",
       "      <td>0</td>\n",
       "      <td>22</td>\n",
       "    </tr>\n",
       "    <tr>\n",
       "      <th>delayed</th>\n",
       "      <td>0</td>\n",
       "      <td>70</td>\n",
       "      <td>0</td>\n",
       "      <td>0</td>\n",
       "      <td>1</td>\n",
       "      <td>0</td>\n",
       "      <td>4</td>\n",
       "      <td>0</td>\n",
       "      <td>14</td>\n",
       "    </tr>\n",
       "    <tr>\n",
       "      <th>low_quality</th>\n",
       "      <td>1</td>\n",
       "      <td>5</td>\n",
       "      <td>7</td>\n",
       "      <td>1</td>\n",
       "      <td>0</td>\n",
       "      <td>0</td>\n",
       "      <td>2</td>\n",
       "      <td>4</td>\n",
       "      <td>13</td>\n",
       "    </tr>\n",
       "    <tr>\n",
       "      <th>return</th>\n",
       "      <td>0</td>\n",
       "      <td>5</td>\n",
       "      <td>4</td>\n",
       "      <td>22</td>\n",
       "      <td>0</td>\n",
       "      <td>0</td>\n",
       "      <td>3</td>\n",
       "      <td>3</td>\n",
       "      <td>10</td>\n",
       "    </tr>\n",
       "    <tr>\n",
       "      <th>not_as_anounced</th>\n",
       "      <td>1</td>\n",
       "      <td>0</td>\n",
       "      <td>1</td>\n",
       "      <td>0</td>\n",
       "      <td>4</td>\n",
       "      <td>0</td>\n",
       "      <td>0</td>\n",
       "      <td>1</td>\n",
       "      <td>5</td>\n",
       "    </tr>\n",
       "    <tr>\n",
       "      <th>partial_delivery</th>\n",
       "      <td>0</td>\n",
       "      <td>3</td>\n",
       "      <td>0</td>\n",
       "      <td>0</td>\n",
       "      <td>0</td>\n",
       "      <td>0</td>\n",
       "      <td>1</td>\n",
       "      <td>0</td>\n",
       "      <td>1</td>\n",
       "    </tr>\n",
       "    <tr>\n",
       "      <th>other_delivery</th>\n",
       "      <td>0</td>\n",
       "      <td>7</td>\n",
       "      <td>0</td>\n",
       "      <td>0</td>\n",
       "      <td>2</td>\n",
       "      <td>0</td>\n",
       "      <td>59</td>\n",
       "      <td>1</td>\n",
       "      <td>1</td>\n",
       "    </tr>\n",
       "    <tr>\n",
       "      <th>other_order</th>\n",
       "      <td>1</td>\n",
       "      <td>6</td>\n",
       "      <td>0</td>\n",
       "      <td>2</td>\n",
       "      <td>0</td>\n",
       "      <td>0</td>\n",
       "      <td>2</td>\n",
       "      <td>5</td>\n",
       "      <td>6</td>\n",
       "    </tr>\n",
       "    <tr>\n",
       "      <th>satisfied</th>\n",
       "      <td>15</td>\n",
       "      <td>3</td>\n",
       "      <td>2</td>\n",
       "      <td>1</td>\n",
       "      <td>0</td>\n",
       "      <td>0</td>\n",
       "      <td>1</td>\n",
       "      <td>0</td>\n",
       "      <td>298</td>\n",
       "    </tr>\n",
       "  </tbody>\n",
       "</table>\n",
       "</div>"
      ],
      "text/plain": [
       "                  before_estimate  delayed  low_quality  return  \\\n",
       "before_estimate                77        3            2       0   \n",
       "delayed                         0       70            0       0   \n",
       "low_quality                     1        5            7       1   \n",
       "return                          0        5            4      22   \n",
       "not_as_anounced                 1        0            1       0   \n",
       "partial_delivery                0        3            0       0   \n",
       "other_delivery                  0        7            0       0   \n",
       "other_order                     1        6            0       2   \n",
       "satisfied                      15        3            2       1   \n",
       "\n",
       "                  not_as_anounced  partial_delivery  other_delivery  \\\n",
       "before_estimate                 0                 0               1   \n",
       "delayed                         1                 0               4   \n",
       "low_quality                     0                 0               2   \n",
       "return                          0                 0               3   \n",
       "not_as_anounced                 4                 0               0   \n",
       "partial_delivery                0                 0               1   \n",
       "other_delivery                  2                 0              59   \n",
       "other_order                     0                 0               2   \n",
       "satisfied                       0                 0               1   \n",
       "\n",
       "                  other_order  satisfied  \n",
       "before_estimate             0         22  \n",
       "delayed                     0         14  \n",
       "low_quality                 4         13  \n",
       "return                      3         10  \n",
       "not_as_anounced             1          5  \n",
       "partial_delivery            0          1  \n",
       "other_delivery              1          1  \n",
       "other_order                 5          6  \n",
       "satisfied                   0        298  "
      ]
     },
     "execution_count": 53,
     "metadata": {},
     "output_type": "execute_result"
    },
    {
     "data": {
      "image/png": "[encoded data removed]",
      "text/plain": [
       "<Figure size 432x432 with 1 Axes>"
      ]
     },
     "metadata": {
      "needs_background": "light"
     },
     "output_type": "display_data"
    }
   ],
   "source": [
    "print(\"Model Accuracy Train:\", (model2.score(X_train, y_train)*100).round(1), \"%\")\n",
    "print(\"Model Accuracy Test:\", (model2.score(X_test, y_test)*100).round(1), \"%\")\n",
    "print(\"Confusion matrix:\")\n",
    "confusion = metrics.confusion_matrix(y_test, model2.predict(X_test))\n",
    "plt.figure(figsize=(6,6))\n",
    "plt.matshow(confusion, fignum=1)\n",
    "pd.DataFrame(confusion, columns=labels2, index=labels2)"
   ]
  },
  {
   "cell_type": "markdown",
   "metadata": {},
   "source": [
    "Our final model is marginaly better than the first one, and also is not as overfitted. We reduced the dimensionality of the model, making it easier to explain and without losing accuracy.\n",
    "\n",
    "We found some interesting insights from the data but we did not investigated further.\n",
    "\n",
    "There is still lots to study in this dataset and lots of cogs to tweak in these models, but one thing that surely would improve it's performance would be more classified data."
   ]
  }
 ],
 "metadata": {
  "kernelspec": {
   "display_name": "Python 3",
   "language": "python",
   "name": "python3"
  },
  "language_info": {
   "codemirror_mode": {
    "name": "ipython",
    "version": 3
   },
   "file_extension": ".py",
   "mimetype": "text/x-python",
   "name": "python",
   "nbconvert_exporter": "python",
   "pygments_lexer": "ipython3",
   "version": "3.7.0"
  }
 },
 "nbformat": 4,
 "nbformat_minor": 2
}
